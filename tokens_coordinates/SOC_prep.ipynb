{
 "cells": [
  {
   "cell_type": "markdown",
   "metadata": {},
   "source": [
    "# Get coordinates of all tokens of 1 model"
   ]
  },
  {
   "cell_type": "code",
   "execution_count": 2,
   "metadata": {},
   "outputs": [],
   "source": [
    "import pandas as pd\n",
    "import numpy as np"
   ]
  },
  {
   "cell_type": "code",
   "execution_count": 3,
   "metadata": {},
   "outputs": [],
   "source": [
    "def get_coordinates(token, model):\n",
    "    df = pd.read_csv(f'tokens_coordinates/{token}.tsne.30.tsv', sep='\\t')\n",
    "    # Get the coordinates for each token\n",
    "    df['x'] = df[model + '.x']\n",
    "    df['y'] = df[model + '.y']\n",
    "    df = df[['_id', 'x', 'y']]\n",
    "    df.to_csv(f'tokens_coordinates/{model}.tsne.30.tsv', sep='\\t', index=False)"
   ]
  },
  {
   "cell_type": "code",
   "execution_count": null,
   "metadata": {},
   "outputs": [],
   "source": [
    "token = 'time'\n",
    "model = 'time.nobound4-4TIME.PPMIweight.LENGTH5000.SOCPOSGEN'\n",
    "get_coordinates(token, model)"
   ]
  },
  {
   "cell_type": "markdown",
   "metadata": {},
   "source": [
    "# Get the senses"
   ]
  },
  {
   "cell_type": "code",
   "execution_count": 1,
   "metadata": {},
   "outputs": [],
   "source": [
    "import pandas as pd"
   ]
  },
  {
   "cell_type": "code",
   "execution_count": 6,
   "metadata": {},
   "outputs": [],
   "source": [
    "def get_senses(token, model):\n",
    "    df = pd.read_csv(f'{model}.tsne.30.tsv', sep='\\t')\n",
    "    sense_df = pd.read_csv(f'{token}.variables.tsv', sep='\\t')\n",
    "    df['senses'] = df['_id'].map(sense_df.set_index('_id')['senses'])\n",
    "    df.to_csv(f'{model}.tsne.30.tsv', sep='\\t', index=False)"
   ]
  },
  {
   "cell_type": "code",
   "execution_count": 7,
   "metadata": {},
   "outputs": [],
   "source": [
    "token = 'time'\n",
    "model = 'time.nobound4-4TIME.PPMIweight.LENGTH5000.SOCPOSGEN'\n",
    "get_senses(token,model)"
   ]
  },
  {
   "cell_type": "markdown",
   "metadata": {},
   "source": [
    "# Visualise the model"
   ]
  },
  {
   "cell_type": "code",
   "execution_count": 2,
   "metadata": {},
   "outputs": [],
   "source": [
    "import pandas as pd\n",
    "import plotly.express as px"
   ]
  },
  {
   "cell_type": "code",
   "execution_count": null,
   "metadata": {},
   "outputs": [],
   "source": [
    "data = 'time_final_no_det-time.bound3-3TIME.PPMIweight.LENGTH5000.SOCPOSNVAA.tsne.30.tsv'\n",
    "df = pd.read_csv(data, sep='\\t', names = ['_id', 'x', 'y', 'senses'])\n",
    "\n",
    "# Convert x and y columns to numeric\n",
    "df['x'] = pd.to_numeric(df['x'], errors='coerce')  # Convert to numeric, coercing errors to NaN\n",
    "df['y'] = pd.to_numeric(df['y'], errors='coerce')\n",
    "\n",
    "# Drop rows with invalid x or y values\n",
    "df = df.dropna(subset=['x', 'y']).reset_index(drop=True)\n",
    "\n",
    "# Create the scatter plot\n",
    "fig = px.scatter(\n",
    "    df,\n",
    "    x='x',\n",
    "    y='y',\n",
    "    color='senses',\n",
    "    title='Interactive Token Visualization',\n",
    "    labels={'x': 'X-Axis', 'y': 'Y-Axis'},\n",
    "    hover_name='_id'\n",
    "    )\n",
    "\n",
    "# Enforce square aspect ratio\n",
    "fig.update_layout(\n",
    "    xaxis=dict(scaleanchor=\"y\", scaleratio=1),  # Ensure square aspect ratio\n",
    "    yaxis=dict(scaleanchor=\"x\"),  # Link axes scaling\n",
    "    width=700,  # Set plot width\n",
    "    height=700  # Set plot height to match width\n",
    ")\n",
    "\n",
    "# Show the plot\n",
    "fig.show()"
   ]
  },
  {
   "cell_type": "markdown",
   "metadata": {},
   "source": [
    "# Display the selected tokens"
   ]
  },
  {
   "cell_type": "code",
   "execution_count": 16,
   "metadata": {},
   "outputs": [],
   "source": [
    "import dash\n",
    "from dash import dcc, html, Output, Input"
   ]
  },
  {
   "cell_type": "code",
   "execution_count": null,
   "metadata": {},
   "outputs": [],
   "source": [
    "# Initialize Dash app\n",
    "app = dash.Dash(__name__)\n",
    "\n",
    "# Define the layout\n",
    "app.layout = html.Div([\n",
    "    dcc.Graph(\n",
    "        id='scatter-plot',\n",
    "        figure=fig,\n",
    "        config={'scrollZoom': True},  # Allow zooming with the mouse\n",
    "        style={'display': 'inline-block', 'width': '700px', 'height': '700px'}  # Container style\n",
    "    ),\n",
    "    html.Div(\n",
    "        id='selected-tokens', \n",
    "        style={'margin-top': '20px', 'font-size': '16px'}\n",
    "    )\n",
    "])\n",
    "\n",
    "# Define callback to handle box selection\n",
    "@app.callback(\n",
    "    Output('selected-tokens', 'children'),\n",
    "    Input('scatter-plot', 'selectedData')\n",
    ")\n",
    "def display_selected_tokens(selectedData):\n",
    "    if selectedData is None:\n",
    "        return \"No tokens selected.\"\n",
    "    \n",
    "    # Extract the token IDs from the selected points\n",
    "    selected_tokens = [point['customdata'] for point in selectedData['points']]\n",
    "    return f\"Selected Tokens: {', '.join(selected_tokens)}\"\n",
    "\n",
    "# Run the app\n",
    "if __name__ == '__main__':\n",
    "    app.run_server(debug=True)"
   ]
  },
  {
   "cell_type": "markdown",
   "metadata": {},
   "source": [
    "# Test functions"
   ]
  },
  {
   "cell_type": "code",
   "execution_count": 20,
   "metadata": {},
   "outputs": [
    {
     "data": {
      "text/plain": [
       "<module 'get_model_data' from 'd:\\\\OneDrive - KU Leuven\\\\KUL\\\\SOC_flow\\\\tokens_coordinates\\\\get_model_data.py'>"
      ]
     },
     "execution_count": 20,
     "metadata": {},
     "output_type": "execute_result"
    }
   ],
   "source": [
    "import get_model_data\n",
    "import get_token_ids\n",
    "import importlib\n",
    "# Import the module before reloading\n",
    "importlib.reload(get_token_ids)\n",
    "importlib.reload(get_model_data)\n"
   ]
  },
  {
   "cell_type": "code",
   "execution_count": 21,
   "metadata": {},
   "outputs": [],
   "source": [
    "token = 'time_final_no_det'\n",
    "model = 'time.bound3-3TIME.PPMIweight.LENGTH5000.SOCPOSNVAA'"
   ]
  },
  {
   "cell_type": "code",
   "execution_count": null,
   "metadata": {},
   "outputs": [],
   "source": [
    "get_model_data.get_model_data(token, model)"
   ]
  },
  {
   "cell_type": "code",
   "execution_count": 22,
   "metadata": {},
   "outputs": [
    {
     "data": {
      "text/html": [
       "\n",
       "        <iframe\n",
       "            width=\"100%\"\n",
       "            height=\"650\"\n",
       "            src=\"http://127.0.0.1:8050/\"\n",
       "            frameborder=\"0\"\n",
       "            allowfullscreen\n",
       "            \n",
       "        ></iframe>\n",
       "        "
      ],
      "text/plain": [
       "<IPython.lib.display.IFrame at 0x1e2aeb79190>"
      ]
     },
     "metadata": {},
     "output_type": "display_data"
    }
   ],
   "source": [
    "get_token_ids.get_token_ids(token, model)"
   ]
  }
 ],
 "metadata": {
  "kernelspec": {
   "display_name": "KUL312",
   "language": "python",
   "name": "python3"
  },
  "language_info": {
   "codemirror_mode": {
    "name": "ipython",
    "version": 3
   },
   "file_extension": ".py",
   "mimetype": "text/x-python",
   "name": "python",
   "nbconvert_exporter": "python",
   "pygments_lexer": "ipython3",
   "version": "3.12.3"
  }
 },
 "nbformat": 4,
 "nbformat_minor": 2
}
