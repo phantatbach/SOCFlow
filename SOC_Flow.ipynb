{
 "cells": [
  {
   "cell_type": "markdown",
   "metadata": {},
   "source": [
    "# Import"
   ]
  },
  {
   "cell_type": "code",
   "execution_count": 5,
   "metadata": {},
   "outputs": [],
   "source": [
    "import sys\n",
    "nephosemdir = \"D:/OneDrive - KU Leuven/KUL/nephosem\"\n",
    "tokens_coordinates_dir = 'tokens_coordinates'\n",
    "SOC_analysis_dir = 'SOC_analysis'\n",
    "\n",
    "sys.path.append(nephosemdir)\n",
    "sys.path.append(tokens_coordinates_dir)\n",
    "sys.path.append(SOC_analysis_dir)\n",
    "\n",
    "mydir = f\"./\""
   ]
  },
  {
   "cell_type": "code",
   "execution_count": 6,
   "metadata": {},
   "outputs": [
    {
     "data": {
      "text/plain": [
       "<module 'get_model_data' from 'd:\\\\OneDrive - KU Leuven\\\\KUL\\\\SOCFlow\\\\tokens_coordinates\\\\get_model_data.py'>"
      ]
     },
     "execution_count": 6,
     "metadata": {},
     "output_type": "execute_result"
    }
   ],
   "source": [
    "# tokens_coordinates\n",
    "import get_model_data\n",
    "import get_token_ids\n",
    "import importlib\n",
    "# Import the module before reloading\n",
    "importlib.reload(get_token_ids)\n",
    "importlib.reload(get_model_data)"
   ]
  },
  {
   "cell_type": "code",
   "execution_count": 7,
   "metadata": {},
   "outputs": [],
   "source": [
    "# Nephosem\n",
    "from nephosem import ConfigLoader, TypeTokenMatrix\n",
    "conf = ConfigLoader()\n",
    "settings = conf.update_config('config.ini')"
   ]
  },
  {
   "cell_type": "code",
   "execution_count": 8,
   "metadata": {},
   "outputs": [
    {
     "data": {
      "text/plain": [
       "<module 'SOC_analysis' from 'd:\\\\OneDrive - KU Leuven\\\\KUL\\\\SOCFlow\\\\SOC_analysis\\\\SOC_analysis.py'>"
      ]
     },
     "execution_count": 8,
     "metadata": {},
     "output_type": "execute_result"
    }
   ],
   "source": [
    "# SOC_analysis\n",
    "import SOC_analysis\n",
    "import importlib\n",
    "# Import the module before reloading\n",
    "importlib.reload(SOC_analysis)"
   ]
  },
  {
   "cell_type": "code",
   "execution_count": 9,
   "metadata": {},
   "outputs": [],
   "source": [
    "analyser = SOC_analysis.SOCAnalyser()\n",
    "\n",
    "token = 'time_final_no_det'\n",
    "model = 'time.bound3-3TIME.PPMIweight.LENGTH5000.SOCPOSNVAA'\n",
    "input_folder = './input/'\n",
    "output_folder = './output/'"
   ]
  },
  {
   "cell_type": "markdown",
   "metadata": {},
   "source": [
    "# Get the coordinates of the tokens"
   ]
  },
  {
   "cell_type": "code",
   "execution_count": 10,
   "metadata": {},
   "outputs": [
    {
     "name": "stdout",
     "output_type": "stream",
     "text": [
      "The coordinates of time_final_no_det-time.bound3-3TIME.PPMIweight.LENGTH5000.SOCPOSNVAA were extracted\n",
      "The senses of time_final_no_det-time.bound3-3TIME.PPMIweight.LENGTH5000.SOCPOSNVAA were added successfully.\n",
      "The model data was extracted\n"
     ]
    }
   ],
   "source": [
    "# Get the coordinates, senses of the tokens of the model.\n",
    "get_model_data.get_model_data(token, model, input_folder)"
   ]
  },
  {
   "cell_type": "code",
   "execution_count": 11,
   "metadata": {},
   "outputs": [
    {
     "data": {
      "text/html": [
       "\n",
       "        <iframe\n",
       "            width=\"100%\"\n",
       "            height=\"650\"\n",
       "            src=\"http://127.0.0.1:8050/\"\n",
       "            frameborder=\"0\"\n",
       "            allowfullscreen\n",
       "            \n",
       "        ></iframe>\n",
       "        "
      ],
      "text/plain": [
       "<IPython.lib.display.IFrame at 0x26c8050fdf0>"
      ]
     },
     "metadata": {},
     "output_type": "display_data"
    },
    {
     "name": "stdout",
     "output_type": "stream",
     "text": [
      "Open the app in your browser (http://127.0.0.1:8050).\n"
     ]
    }
   ],
   "source": [
    "# Visualisation to get the token ids\n",
    "get_token_ids.get_token_ids(token, model, input_folder)"
   ]
  },
  {
   "cell_type": "markdown",
   "metadata": {},
   "source": [
    "# Get the sub-matrix of the SOC matrix"
   ]
  },
  {
   "cell_type": "code",
   "execution_count": 12,
   "metadata": {},
   "outputs": [],
   "source": [
    "# List of tokens copied from the token_coordinate\n",
    "token_list = ['time/NN/Encow_sample_4340/41', 'time/NN/Encow_sample_27616/24', 'time/NN/Encow_sample_20274/16', 'time/NN/Encow_sample_31654/62', 'time/NN/Encow_sample_20185/38', 'time/NN/Encow_sample_2091/31', 'time/NN/Encow_sample_19697/12', 'time/NN/Encow_sample_2958/92', 'time/NN/Encow_sample_28176/41', 'time/NN/Encow_sample_29404/44', 'time/NN/Encow_sample_23189/18', 'time/NN/Encow_sample_3829/43', 'time/NN/Encow_sample_11344/13', 'time/NN/Encow_sample_28496/50', 'time/NN/Encow_sample_1117/53', 'time/NN/Encow_sample_232/29', 'time/NN/Encow_sample_22361/83', 'time/NN/Encow_sample_30912/54', 'time/NN/Encow_sample_1840/58', 'time/NN/Encow_sample_3400/19', 'time/NN/Encow_sample_10232/58', 'time/NN/Encow_sample_21435/113', 'time/NN/Encow_sample_19352/39', 'time/NN/Encow_sample_20378/46', 'time/NN/Encow_sample_29404/48', 'time/NN/Encow_sample_31249/26', 'time/NN/Encow_sample_30196/39', 'time/NN/Encow_sample_17271/14']\n",
    "\n",
    "# token_list = ['time/NN/Encow_sample_17659/14', 'time/NN/Encow_sample_26462/48', 'time/NN/Encow_sample_5900/30', 'time/NN/Encow_sample_1972/52', 'time/NN/Encow_sample_14495/40', 'time/NN/Encow_sample_32645/34', 'time/NN/Encow_sample_4025/87', 'time/NN/Encow_sample_27713/27', 'time/NN/Encow_sample_30840/91', 'time/NN/Encow_sample_5042/47', 'time/NN/Encow_sample_32177/43', 'time/NN/Encow_sample_1678/27', 'time/NN/Encow_sample_6465/17', 'time/NN/Encow_sample_19950/5', 'time/NN/Encow_sample_8102/30', 'time/NN/Encow_sample_28453/78', 'time/NN/Encow_sample_15457/37', 'time/NN/Encow_sample_6233/37', 'time/NN/Encow_sample_3956/86', 'time/NN/Encow_sample_25060/50', 'time/NN/Encow_sample_2910/14', 'time/NN/Encow_sample_13911/71', 'time/NN/Encow_sample_23889/74', 'time/NN/Encow_sample_4492/57', 'time/NN/Encow_sample_30555/87']\n",
    "\n",
    "# Name of the sense/region\n",
    "sense = 'time_3'"
   ]
  },
  {
   "cell_type": "code",
   "execution_count": 13,
   "metadata": {},
   "outputs": [],
   "source": [
    "# Get the full SOC matrix\n",
    "model_file = f'{input_folder}{model}.tcmx.soc.pac'\n",
    "model_mtx = TypeTokenMatrix.load(model_file) # opens a matrix\n",
    "\n",
    "# Get the submatrix of only the tokens under investigation\n",
    "subset_rows = model_mtx.submatrix(row = token_list)\n",
    "subset_rows.to_csv(f'{input_folder}{sense}_SOCs.csv', sep=',')"
   ]
  },
  {
   "cell_type": "code",
   "execution_count": 14,
   "metadata": {},
   "outputs": [
    {
     "name": "stdout",
     "output_type": "stream",
     "text": [
      "Warning: POS_list is empty. No filtering applied.\n"
     ]
    }
   ],
   "source": [
    "# List of POS tags\n",
    "POS_list = []\n",
    "SenSOC_file = 'input/time_3_SOCs.csv'\n",
    "sub_SenSOC = 'time_3'\n",
    "\n",
    "# Get the submatrix of only the POS tags\n",
    "SOC_analysis.get_POS_submtx(SenSOC_file, sub_SenSOC, POS_list, input_folder)"
   ]
  },
  {
   "cell_type": "markdown",
   "metadata": {},
   "source": [
    "# SOC Analysis"
   ]
  },
  {
   "cell_type": "code",
   "execution_count": 15,
   "metadata": {},
   "outputs": [
    {
     "name": "stdout",
     "output_type": "stream",
     "text": [
      "Elbow index: 77\n",
      "Elbow SOC: Will/NP (Association Score: 0.0012034172303727437)\n"
     ]
    },
    {
     "data": {
      "image/png": "[encoded data removed]",
      "text/plain": [
       "<Figure size 1200x600 with 1 Axes>"
      ]
     },
     "metadata": {},
     "output_type": "display_data"
    }
   ],
   "source": [
    "# Choose the submatrix\n",
    "sub_SenSOC = 'time_3'\n",
    "sub_senSOC_file = 'input/time_3_SOCs.csv'\n",
    "mode = 'avg'\n",
    "\n",
    "# Find the elbow\n",
    "analyser.elbow_finder(sense, sub_senSOC_file, mode)"
   ]
  },
  {
   "cell_type": "code",
   "execution_count": 16,
   "metadata": {},
   "outputs": [
    {
     "name": "stdout",
     "output_type": "stream",
     "text": [
      "Top 77 SOCs extracted and saved to: ./output/top_77-time_3-avg_SOCs.csv\n"
     ]
    },
    {
     "data": {
      "application/vnd.plotly.v1+json": {
       "config": {
        "plotlyServerURL": "https://plot.ly"
       },
       "data": [
        {
         "hoverinfo": "text",
         "marker": {
          "color": "red",
          "size": 20
         },
         "mode": "markers+text",
         "name": "Sense",
         "text": [
          "time_3"
         ],
         "textposition": "top center",
         "type": "scatter",
         "x": [
          0
         ],
         "y": [
          0
         ]
        },
        {
         "customdata": [
          [
           0.0029108604748266315,
           1
          ],
          [
           0.0027102715175241284,
           1.0740106502265663
          ],
          [
           0.0026876921811738322,
           1.0830334274200002
          ],
          [
           0.0023791532090757,
           1.2234859292468598
          ],
          [
           0.0023432170895759164,
           1.2422495925690986
          ],
          [
           0.002242459894324293,
           1.2980657902485002
          ],
          [
           0.0020705604880595593,
           1.4058321365702122
          ],
          [
           0.0020487374893834428,
           1.4208069554595013
          ],
          [
           0.0019360696251911039,
           1.5034895630570666
          ],
          [
           0.0019064912017296536,
           1.5268155825664285
          ],
          [
           0.0017671863929305677,
           1.6471722996913085
          ],
          [
           0.0017622101693599175,
           1.651823673156951
          ],
          [
           0.0017555885528363919,
           1.6580539159495775
          ],
          [
           0.0017539377893754885,
           1.6596144358478528
          ],
          [
           0.0017372354018495614,
           1.6755705483134646
          ],
          [
           0.0016363859679216605,
           1.7788349031883073
          ],
          [
           0.0016200905299973679,
           1.7967270476121855
          ],
          [
           0.0015731240258567605,
           1.8503693459524326
          ],
          [
           0.0015725219787349714,
           1.8510777681901132
          ],
          [
           0.0015505350940347394,
           1.8773264055908008
          ],
          [
           0.0015352688466295178,
           1.895993969536375
          ],
          [
           0.0015087447647152074,
           1.9293259820365238
          ],
          [
           0.0015000639486822036,
           1.9404909219928947
          ],
          [
           0.0014922229948969822,
           1.9506873200460144
          ],
          [
           0.0014892689319220569,
           1.9545566367720184
          ],
          [
           0.0014847324208603005,
           1.9605286676100113
          ],
          [
           0.0014828297789726737,
           1.9630442523506093
          ],
          [
           0.001477322369456114,
           1.9703624171739063
          ],
          [
           0.0014754282989475572,
           1.9728918558109447
          ],
          [
           0.0014713521309193804,
           1.9783574670244086
          ],
          [
           0.00145750317041745,
           1.9971555012075335
          ],
          [
           0.0014526910930583714,
           2.003771131203369
          ],
          [
           0.0014399159415402231,
           2.0215488910505397
          ],
          [
           0.0014378885007148394,
           2.0243993003487484
          ],
          [
           0.0014355466039591715,
           2.0277018292534787
          ],
          [
           0.0014300206958577282,
           2.0355373060392625
          ],
          [
           0.0014276591214370884,
           2.0389044073045572
          ],
          [
           0.001423844904848918,
           2.044366254297548
          ],
          [
           0.0014236862823243212,
           2.0445940309787476
          ],
          [
           0.0014218373779221534,
           2.0472527449521047
          ],
          [
           0.0014075925467759633,
           2.067970934837532
          ],
          [
           0.0014001048054997926,
           2.079030415003502
          ],
          [
           0.0013949924497853893,
           2.086649626866761
          ],
          [
           0.0013862961375894248,
           2.0997392951611413
          ],
          [
           0.0013847822219485394,
           2.1020348389010466
          ],
          [
           0.0013706565401079682,
           2.123697943029068
          ],
          [
           0.0013694799998240548,
           2.125522442971498
          ],
          [
           0.0013630231458705746,
           2.1355913754255726
          ],
          [
           0.0013608175837600215,
           2.139052661844468
          ],
          [
           0.0013436317957924392,
           2.166412319165074
          ],
          [
           0.0013430879073888008,
           2.1672896158270505
          ],
          [
           0.0013303381714344607,
           2.1880605528201484
          ],
          [
           0.0013122464640274356,
           2.218226952498592
          ],
          [
           0.0013081652956440611,
           2.225147299442385
          ],
          [
           0.0013036341165717426,
           2.23288147941504
          ],
          [
           0.0012984854003189252,
           2.241735235615037
          ],
          [
           0.0012965789477117678,
           2.245031418999811
          ],
          [
           0.001285163090819243,
           2.264973601888199
          ],
          [
           0.0012819197893564251,
           2.270704063542072
          ],
          [
           0.0012786477083354506,
           2.2765148334845122
          ],
          [
           0.0012766407636959642,
           2.2800936313513027
          ],
          [
           0.0012759106478806251,
           2.2813983719485136
          ],
          [
           0.0012746422549545003,
           2.2836685850576464
          ],
          [
           0.0012714404392358061,
           2.2894194529286733
          ],
          [
           0.0012706469694819358,
           2.290849106588149
          ],
          [
           0.001268868685805257,
           2.294059667001179
          ],
          [
           0.001268703870159168,
           2.294357685266179
          ],
          [
           0.0012608553939602216,
           2.3086394274635316
          ],
          [
           0.001260074655190518,
           2.3100698540647353
          ],
          [
           0.0012560196883870253,
           2.3175277439836512
          ],
          [
           0.0012543889054837428,
           2.320540672913626
          ],
          [
           0.0012435749733214606,
           2.340719729227119
          ],
          [
           0.0012134561650236884,
           2.3988179867789516
          ],
          [
           0.001212085492389625,
           2.40153066190725
          ],
          [
           0.0012120362551814785,
           2.4016282205937705
          ],
          [
           0.0012084085224960785,
           2.40883808797871
          ],
          [
           0.0012034172303727437,
           2.418828982467725
          ]
         ],
         "hovertemplate": "<b>SOC:</b> %{text}<br><b>Raw Association Score:</b> %{customdata[0]:.4f}<br><b>Distance (Inverse):</b> %{customdata[1]:.4f}",
         "marker": {
          "color": "blue",
          "size": 10
         },
         "mode": "markers+text",
         "name": "SOCs",
         "text": [
          "draft/NN",
          "time/NN",
          "strike/VBN",
          "follow/VBD",
          "Club/NP",
          "charge/VBN",
          "Sunday/NP",
          "PM/NP",
          "Saturday/NP",
          "half/NN",
          "bass/NN",
          "poster/NN",
          "front/JJ",
          "seem/VBD",
          "step/NN",
          "flight/NN",
          "edition/NN",
          "win/NN",
          "club/NN",
          "second/JJ",
          "Commission/NP",
          "prime/JJ",
          "attempt/NN",
          "meet/VBD",
          "volume/NN",
          "conduct/VB",
          "match/NN",
          "enter/VBD",
          "Johnson/NP",
          "place/NN",
          "receive/VBZ",
          "chapter/NN",
          "novel/NN",
          "visit/NN",
          "minister/NN",
          "record/VBN",
          "paragraph/NN",
          "double/JJ",
          "round/NN",
          "stop/NN",
          "chapter/NNS",
          "complexity/NN",
          "THE/NP",
          "appointment/NN",
          "hit/NN",
          "unlikely/JJ",
          "rise/VBG",
          "lady/NN",
          "wonder/VBD",
          "floor/NN",
          "remain/VBP",
          "Don/NP",
          "phase/NN",
          "element/NN",
          "parameter/NN",
          "appearance/NN",
          "found/VBN",
          "studio/NN",
          "meet/VBP",
          "offense/NN",
          "remember/VBP",
          "civilian/JJ",
          "season/NN",
          "bedroom/NN",
          "publisher/NN",
          "episode/NNS",
          "leaf/NN",
          "eliminate/VB",
          "pitch/NN",
          "Paris/NP",
          "score/VBG",
          "fall/VB",
          "finally/RB",
          "open/VBG",
          "observation/NNS",
          "Latin/NP",
          "Will/NP"
         ],
         "type": "scatter",
         "x": [
          1,
          1.0704369683875794,
          1.0686425919350333,
          1.187008865397787,
          1.176662553615349,
          1.191516117619626,
          1.2406771938628267,
          1.1952588707514202,
          1.1943526919444338,
          1.1332546249154465,
          1.128546454258031,
          1.029895214682193,
          0.9246778781782126,
          0.8101842787951636,
          0.6960571611132159,
          0.6046069528754556,
          0.4709251829613583,
          0.3378215999771825,
          0.18848226697818746,
          0.03829471288031671,
          -0.11596214008504252,
          -0.27457171510997463,
          -0.43179985229560847,
          -0.5876371221424608,
          -0.738757324756697,
          -0.8864959869156009,
          -1.0273945122599613,
          -1.1646440490350929,
          -1.2919694086910307,
          -1.4131058112334594,
          -1.5357137718379292,
          -1.6400896095778046,
          -1.7437990213223522,
          -1.823920745817661,
          -1.8925281710165465,
          -1.9530837426748549,
          -1.9966260092058954,
          -2.0290713332585937,
          -2.0428925184861053,
          -2.045549019875951,
          -2.052499415439918,
          -2.035919970379497,
          -2.00212565537397,
          -1.9597633688311524,
          -1.8938679490961199,
          -1.831913346757537,
          -1.7397432368178862,
          -1.6421641100437052,
          -1.5278875518554227,
          -1.418698361356548,
          -1.2810440006406942,
          -1.1451608397355761,
          -1.0030199118971486,
          -0.8410315849636784,
          -0.6726470373620437,
          -0.49883301831183696,
          -0.3195012833134021,
          -0.13852954720911348,
          0.04631904174497917,
          0.2318015396209758,
          0.4162762857727754,
          0.5979583527422319,
          0.7761945204214049,
          0.9510592118051356,
          1.1183380254832966,
          1.2793710776781368,
          1.4305086185796723,
          1.5817451765747457,
          1.7146126722103407,
          1.8410141099048816,
          1.9521630391670333,
          2.065735666252367,
          2.2019148150694323,
          2.2747370722668703,
          2.330025970130407,
          2.376830587788616,
          2.410780528567909
         ],
         "y": [
          0,
          0.08754183862188286,
          0.17596708672784966,
          0.296526175121372,
          0.3983080279852484,
          0.515037995944102,
          0.6611233597765472,
          0.7681462338462236,
          0.9132373806774519,
          1.0231812050049653,
          1.199816438232107,
          1.2914477511600853,
          1.3762680007191797,
          1.4484203499218544,
          1.5241525812196413,
          1.672932767727266,
          1.7339139412537208,
          1.8192699862937578,
          1.8414568523108148,
          1.876935786886139,
          1.8924444284007913,
          1.9096882253977387,
          1.891838763186315,
          1.8600708678081135,
          1.809566042306241,
          1.7486559186138424,
          1.672723304334844,
          1.5893181852790028,
          1.491012180276104,
          1.384568609202686,
          1.276798068212368,
          1.1511754074853033,
          1.0226558033585265,
          0.8783539379022838,
          0.7279504311879135,
          0.573477129776558,
          0.4130566080920234,
          0.2496055012590446,
          0.08339609959358113,
          -0.08350454477729605,
          -0.25248749860460534,
          -0.42118563688661464,
          -0.5878771346093872,
          -0.7538120759389432,
          -0.9120387356577597,
          -1.074330695455312,
          -1.221122076420678,
          -1.3653012702244347,
          -1.4970323707352313,
          -1.6372651880848261,
          -1.7481620483508526,
          -1.8644612181388283,
          -1.978504958075422,
          -2.0600840704469374,
          -2.1291560920333583,
          -2.1855302529225966,
          -2.222180236222389,
          -2.260733284091788,
          -2.2702315940357947,
          -2.264682722436934,
          -2.241771848701824,
          -2.201641283205583,
          -2.147711403528644,
          -2.0825291851709595,
          -1.999327309350283,
          -1.9041847077849992,
          -1.7938010703835745,
          -1.6816355736073345,
          -1.5480717408939364,
          -1.4076938201416846,
          -1.2545790063429867,
          -1.1007747307991613,
          -0.9517872035659914,
          -0.7700134882814862,
          -0.5820627873951878,
          -0.3913787054112034,
          -0.19715701738381683
         ]
        },
        {
         "hoverinfo": "skip",
         "line": {
          "color": "gray",
          "dash": "dot"
         },
         "mode": "lines",
         "showlegend": false,
         "type": "scatter",
         "x": [
          0.483765796493545,
          0.48279181943336696,
          0.47987381011469504,
          0.47502351833116235,
          0.46826047449590086,
          0.459611910999461,
          0.4491126525545864,
          0.43680497596938667,
          0.42273843991355264,
          0.406969685363085,
          0.3895622075270747,
          0.3705861001749065,
          0.35011777339338895,
          0.3282396459103026,
          0.30503981322327317,
          0.28061169287029486,
          0.2550536482702764,
          0.2284685926482694,
          0.20096357464023396,
          0.1726493472459637,
          0.14363992186584526,
          0.1140521092171884,
          0.08400504897869521,
          0.0536197300570234,
          0.02301850340716145,
          -0.007675410631683686,
          -0.03833841850090339,
          -0.06884705109012587,
          -0.09907846090374609,
          -0.1289109167244323,
          -0.15822429378177405,
          -0.18690055745233516,
          -0.2148242385434228,
          -0.24188289824677262,
          -0.26796758088994416,
          -0.29297325266236,
          -0.31679922454938825,
          -0.3393495577714686,
          -0.36053345009571497,
          -0.3802656014644606,
          -0.3984665574684833,
          -0.41506302928186906,
          -0.4299881887702464,
          -0.443181937584098,
          -0.45459114915360166,
          -0.4641698826105773,
          -0.4718795677761478,
          -0.4776891604692368,
          -0.4815752675105288,
          -0.4835222409185458,
          -0.4835222409185458,
          -0.4815752675105288,
          -0.4776891604692368,
          -0.4718795677761478,
          -0.4641698826105773,
          -0.4545911491536017,
          -0.443181937584098,
          -0.42998818877024647,
          -0.415063029281869,
          -0.39846655746848336,
          -0.38026560146446053,
          -0.360533450095715,
          -0.3393495577714686,
          -0.31679922454938836,
          -0.2929732526623599,
          -0.26796758088994427,
          -0.2418828982467723,
          -0.21482423854342272,
          -0.18690055745233516,
          -0.15822429378177416,
          -0.12891091672443214,
          -0.09907846090374599,
          -0.06884705109012587,
          -0.038338418500903505,
          -0.007675410631683483,
          0.023018503407161547,
          0.05361973005702328,
          0.08400504897869498,
          0.11405210921718849,
          0.14363992186584526,
          0.1726493472459636,
          0.20096357464023412,
          0.2284685926482695,
          0.2550536482702764,
          0.2806116928702948,
          0.30503981322327334,
          0.32823964591030264,
          0.3501177733933889,
          0.37058610017490645,
          0.38956220752707477,
          0.406969685363085,
          0.4227384399135526,
          0.4368049759693866,
          0.44911265255458643,
          0.459611910999461,
          0.46826047449590086,
          0.4750235183311624,
          0.47987381011469504,
          0.48279181943336696,
          0.483765796493545
         ],
         "y": [
          0,
          0.030682323009400533,
          0.06124109913317693,
          0.09155327896540837,
          0.12149680605640542,
          0.15095110839095394,
          0.17979758388926523,
          0.2079200779756913,
          0.23520535129220516,
          0.26154353567332844,
          0.2868285765464564,
          0.3109586599761906,
          0.33383662263312214,
          0.35537034303626575,
          0.37547311249375054,
          0.3940639842481184,
          0.41106809942034683,
          0.42641698844013376,
          0.4400488467486912,
          0.4519087836638901,
          0.46194904340566384,
          0.47012919739167924,
          0.47641630702896914,
          0.4807850563460203,
          0.4832178539312558,
          0.4837049037674407,
          0.4822442446767858,
          0.4788417582179186,
          0.4735111450029227,
          0.46627386952980804,
          0.4571590737525537,
          0.44620345973674425,
          0.4334511418733057,
          0.41895346924542287,
          0.4027688188639052,
          0.3849623606035673,
          0.3656057947871454,
          0.3447770634734026,
          0.32256003661196875,
          0.2990441743286534,
          0.27432416670109455,
          0.2484995524752355,
          0.22167431825792747,
          0.19395647979956387,
          0.16545764705277863,
          0.13629257475855716,
          0.10657870036939818,
          0.07643567117013961,
          0.045984862500572724,
          0.015348889019786928,
          -0.015348889019787025,
          -0.045984862500572814,
          -0.0764356711701397,
          -0.10657870036939805,
          -0.13629257475855724,
          -0.16545764705277852,
          -0.19395647979956396,
          -0.22167431825792736,
          -0.24849955247523556,
          -0.27432416670109444,
          -0.29904417432865343,
          -0.3225600366119687,
          -0.3447770634734027,
          -0.36560579478714533,
          -0.3849623606035673,
          -0.40276881886390514,
          -0.418953469245423,
          -0.43345114187330575,
          -0.44620345973674425,
          -0.45715907375255366,
          -0.4662738695298081,
          -0.4735111450029227,
          -0.4788417582179186,
          -0.4822442446767857,
          -0.4837049037674407,
          -0.4832178539312558,
          -0.4807850563460203,
          -0.4764163070289692,
          -0.47012919739167924,
          -0.46194904340566384,
          -0.45190878366389015,
          -0.44004884674869116,
          -0.4264169884401337,
          -0.41106809942034683,
          -0.39406398424811845,
          -0.3754731124937504,
          -0.35537034303626563,
          -0.33383662263312214,
          -0.31095865997619077,
          -0.28682857654645627,
          -0.2615435356733284,
          -0.2352053512922052,
          -0.2079200779756914,
          -0.17979758388926506,
          -0.1509511083909539,
          -0.1214968060564055,
          -0.09155327896540813,
          -0.061241099133176824,
          -0.03068232300940054,
          -1.1848844684255796e-16
         ]
        },
        {
         "hoverinfo": "skip",
         "line": {
          "color": "gray",
          "dash": "dot"
         },
         "mode": "lines",
         "showlegend": false,
         "type": "scatter",
         "x": [
          0.96753159298709,
          0.9655836388667339,
          0.9597476202293901,
          0.9500470366623247,
          0.9365209489918017,
          0.919223821998922,
          0.8982253051091728,
          0.8736099519387733,
          0.8454768798271053,
          0.81393937072617,
          0.7791244150541494,
          0.741172200349813,
          0.7002355467867779,
          0.6564792918206052,
          0.6100796264465463,
          0.5612233857405897,
          0.5101072965405528,
          0.4569371852965388,
          0.4019271492804679,
          0.3452986944919274,
          0.2872798437316905,
          0.2281042184343768,
          0.16801009795739041,
          0.1072394601140468,
          0.0460370068143229,
          -0.015350821263367372,
          -0.07667683700180677,
          -0.13769410218025174,
          -0.19815692180749217,
          -0.2578218334488646,
          -0.3164485875635481,
          -0.37380111490467033,
          -0.4296484770868456,
          -0.48376579649354523,
          -0.5359351617798883,
          -0.58594650532472,
          -0.6335984490987765,
          -0.6786991155429372,
          -0.7210669001914299,
          -0.7605312029289212,
          -0.7969331149369666,
          -0.8301260585637381,
          -0.8599763775404928,
          -0.886363875168196,
          -0.9091822983072033,
          -0.9283397652211546,
          -0.9437591355522956,
          -0.9553783209384736,
          -0.9631505350210576,
          -0.9670444818370916,
          -0.9670444818370916,
          -0.9631505350210576,
          -0.9553783209384736,
          -0.9437591355522956,
          -0.9283397652211546,
          -0.9091822983072034,
          -0.886363875168196,
          -0.8599763775404929,
          -0.830126058563738,
          -0.7969331149369667,
          -0.7605312029289211,
          -0.72106690019143,
          -0.6786991155429372,
          -0.6335984490987767,
          -0.5859465053247198,
          -0.5359351617798885,
          -0.4837657964935446,
          -0.42964847708684545,
          -0.37380111490467033,
          -0.3164485875635483,
          -0.2578218334488643,
          -0.19815692180749198,
          -0.13769410218025174,
          -0.07667683700180701,
          -0.015350821263366966,
          0.04603700681432309,
          0.10723946011404656,
          0.16801009795738997,
          0.22810421843437698,
          0.2872798437316905,
          0.3452986944919272,
          0.40192714928046824,
          0.456937185296539,
          0.5101072965405528,
          0.5612233857405896,
          0.6100796264465467,
          0.6564792918206053,
          0.7002355467867778,
          0.7411722003498129,
          0.7791244150541495,
          0.81393937072617,
          0.8454768798271052,
          0.8736099519387732,
          0.8982253051091729,
          0.919223821998922,
          0.9365209489918017,
          0.9500470366623248,
          0.9597476202293901,
          0.9655836388667339,
          0.96753159298709
         ],
         "y": [
          0,
          0.06136464601880107,
          0.12248219826635386,
          0.18310655793081673,
          0.24299361211281084,
          0.3019022167819079,
          0.35959516777853046,
          0.4158401559513826,
          0.4704107025844103,
          0.5230870713466569,
          0.5736571530929128,
          0.6219173199523812,
          0.6676732452662443,
          0.7107406860725315,
          0.7509462249875011,
          0.7881279684962368,
          0.8221361988406937,
          0.8528339768802675,
          0.8800976934973824,
          0.9038175673277802,
          0.9238980868113277,
          0.9402583947833585,
          0.9528326140579383,
          0.9615701126920406,
          0.9664357078625117,
          0.9674098075348814,
          0.9644884893535716,
          0.9576835164358372,
          0.9470222900058454,
          0.9325477390596161,
          0.9143181475051074,
          0.8924069194734885,
          0.8669022837466114,
          0.8379069384908457,
          0.8055376377278104,
          0.7699247212071346,
          0.7312115895742908,
          0.6895541269468052,
          0.6451200732239375,
          0.5980883486573068,
          0.5486483334021891,
          0.496999104950471,
          0.44334863651585493,
          0.38791295959912775,
          0.33091529410555726,
          0.2725851495171143,
          0.21315740073879635,
          0.15287134234027921,
          0.09196972500114545,
          0.030697778039573857,
          -0.03069777803957405,
          -0.09196972500114563,
          -0.1528713423402794,
          -0.2131574007387961,
          -0.2725851495171145,
          -0.33091529410555703,
          -0.3879129595991279,
          -0.4433486365158547,
          -0.4969991049504711,
          -0.5486483334021889,
          -0.5980883486573069,
          -0.6451200732239374,
          -0.6895541269468054,
          -0.7312115895742907,
          -0.7699247212071346,
          -0.8055376377278103,
          -0.837906938490846,
          -0.8669022837466115,
          -0.8924069194734885,
          -0.9143181475051073,
          -0.9325477390596162,
          -0.9470222900058454,
          -0.9576835164358372,
          -0.9644884893535715,
          -0.9674098075348814,
          -0.9664357078625117,
          -0.9615701126920406,
          -0.9528326140579384,
          -0.9402583947833585,
          -0.9238980868113277,
          -0.9038175673277803,
          -0.8800976934973823,
          -0.8528339768802674,
          -0.8221361988406937,
          -0.7881279684962369,
          -0.7509462249875009,
          -0.7107406860725313,
          -0.6676732452662443,
          -0.6219173199523815,
          -0.5736571530929125,
          -0.5230870713466568,
          -0.4704107025844104,
          -0.4158401559513828,
          -0.3595951677785301,
          -0.3019022167819078,
          -0.242993612112811,
          -0.18310655793081626,
          -0.12248219826635365,
          -0.06136464601880108,
          -2.369768936851159e-16
         ]
        },
        {
         "hoverinfo": "skip",
         "line": {
          "color": "gray",
          "dash": "dot"
         },
         "mode": "lines",
         "showlegend": false,
         "type": "scatter",
         "x": [
          1.451297389480635,
          1.448375458300101,
          1.439621430344085,
          1.425070554993487,
          1.4047814234877025,
          1.3788357329983831,
          1.347337957663759,
          1.3104149279081598,
          1.2682153197406578,
          1.2209090560892548,
          1.168686622581224,
          1.1117583005247196,
          1.0503533201801667,
          0.9847189377309077,
          0.9151194396698193,
          0.8418350786108846,
          0.7651609448108291,
          0.6854057779448082,
          0.6028907239207018,
          0.5179480417378911,
          0.4309197655975357,
          0.3421563276515652,
          0.2520151469360856,
          0.16085919017107017,
          0.06905551022148435,
          -0.023026231895051055,
          -0.11501525550271015,
          -0.2065411532703776,
          -0.2972353827112382,
          -0.3867327501732969,
          -0.4746728813453221,
          -0.5607016723570054,
          -0.6444727156302684,
          -0.7256486947403178,
          -0.8039027426698324,
          -0.8789197579870799,
          -0.9503976736481647,
          -1.0180486733144058,
          -1.0816003502871447,
          -1.1407968043933816,
          -1.1953996724054499,
          -1.2451890878456071,
          -1.2899645663107393,
          -1.3295458127522939,
          -1.363773447460805,
          -1.3925096478317318,
          -1.4156387033284432,
          -1.4330674814077102,
          -1.4447258025315863,
          -1.4505667227556374,
          -1.4505667227556374,
          -1.4447258025315863,
          -1.4330674814077102,
          -1.4156387033284432,
          -1.3925096478317318,
          -1.3637734474608052,
          -1.3295458127522939,
          -1.2899645663107393,
          -1.245189087845607,
          -1.1953996724054499,
          -1.1407968043933816,
          -1.081600350287145,
          -1.0180486733144056,
          -0.9503976736481651,
          -0.8789197579870796,
          -0.8039027426698327,
          -0.7256486947403169,
          -0.6444727156302682,
          -0.5607016723570054,
          -0.47467288134532243,
          -0.38673275017329634,
          -0.29723538271123795,
          -0.2065411532703776,
          -0.11501525550271051,
          -0.023026231895050445,
          0.06905551022148464,
          0.16085919017106984,
          0.25201514693608495,
          0.34215632765156545,
          0.4309197655975357,
          0.5179480417378908,
          0.6028907239207023,
          0.6854057779448084,
          0.7651609448108291,
          0.8418350786108842,
          0.9151194396698199,
          0.9847189377309078,
          1.0503533201801665,
          1.1117583005247191,
          1.1686866225812242,
          1.2209090560892548,
          1.2682153197406578,
          1.3104149279081596,
          1.3473379576637592,
          1.3788357329983831,
          1.4047814234877025,
          1.425070554993487,
          1.439621430344085,
          1.448375458300101,
          1.451297389480635
         ],
         "y": [
          0,
          0.0920469690282016,
          0.18372329739953078,
          0.2746598368962251,
          0.36449041816921623,
          0.4528533251728618,
          0.5393927516677957,
          0.6237602339270738,
          0.7056160538766154,
          0.7846306070199852,
          0.8604857296393691,
          0.9328759799285717,
          1.0015098678993664,
          1.0661110291087972,
          1.1264193374812514,
          1.1821919527443552,
          1.2332042982610403,
          1.2792509653204012,
          1.3201465402460735,
          1.3557263509916702,
          1.3858471302169915,
          1.4103875921750377,
          1.4292489210869073,
          1.442355169038061,
          1.4496535617937674,
          1.451114711302322,
          1.4467327340303573,
          1.4365252746537556,
          1.420533435008768,
          1.398821608589424,
          1.3714772212576611,
          1.3386103792102326,
          1.300353425619917,
          1.2568604077362684,
          1.2083064565917154,
          1.1548870818107018,
          1.096817384361436,
          1.0343311904202077,
          0.9676801098359061,
          0.89713252298596,
          0.8229725001032836,
          0.7454986574257064,
          0.6650229547737824,
          0.5818694393986916,
          0.49637294115833586,
          0.4088777242756715,
          0.3197361011081945,
          0.2293070135104188,
          0.13795458750171816,
          0.04604666705936078,
          -0.04604666705936107,
          -0.13795458750171843,
          -0.22930701351041907,
          -0.3197361011081941,
          -0.4088777242756717,
          -0.4963729411583355,
          -0.5818694393986918,
          -0.665022954773782,
          -0.7454986574257066,
          -0.8229725001032833,
          -0.8971325229859602,
          -0.967680109835906,
          -1.034331190420208,
          -1.096817384361436,
          -1.154887081810702,
          -1.2083064565917152,
          -1.2568604077362688,
          -1.3003534256199172,
          -1.3386103792102326,
          -1.371477221257661,
          -1.3988216085894243,
          -1.420533435008768,
          -1.4365252746537556,
          -1.446732734030357,
          -1.451114711302322,
          -1.4496535617937674,
          -1.442355169038061,
          -1.4292489210869075,
          -1.4103875921750377,
          -1.3858471302169915,
          -1.3557263509916704,
          -1.3201465402460733,
          -1.279250965320401,
          -1.2332042982610403,
          -1.1821919527443552,
          -1.1264193374812512,
          -1.066111029108797,
          -1.0015098678993664,
          -0.9328759799285722,
          -0.8604857296393688,
          -0.784630607019985,
          -0.7056160538766155,
          -0.6237602339270741,
          -0.5393927516677951,
          -0.45285332517286175,
          -0.36449041816921646,
          -0.27465983689622436,
          -0.18372329739953044,
          -0.09204696902820161,
          -3.5546534052767383e-16
         ]
        },
        {
         "hoverinfo": "skip",
         "line": {
          "color": "gray",
          "dash": "dot"
         },
         "mode": "lines",
         "showlegend": false,
         "type": "scatter",
         "x": [
          1.93506318597418,
          1.9311672777334679,
          1.9194952404587802,
          1.9000940733246494,
          1.8730418979836034,
          1.838447643997844,
          1.7964506102183455,
          1.7472199038775467,
          1.6909537596542106,
          1.62787874145234,
          1.5582488301082988,
          1.482344400699626,
          1.4004710935735558,
          1.3129585836412103,
          1.2201592528930927,
          1.1224467714811794,
          1.0202145930811055,
          0.9138743705930776,
          0.8038542985609358,
          0.6905973889838548,
          0.574559687463381,
          0.4562084368687536,
          0.33602019591478083,
          0.2144789202280936,
          0.0920740136286458,
          -0.030701642526734744,
          -0.15335367400361355,
          -0.2753882043605035,
          -0.39631384361498434,
          -0.5156436668977292,
          -0.6328971751270962,
          -0.7476022298093407,
          -0.8592969541736912,
          -0.9675315929870905,
          -1.0718703235597766,
          -1.17189301064944,
          -1.267196898197553,
          -1.3573982310858743,
          -1.4421338003828599,
          -1.5210624058578424,
          -1.5938662298739332,
          -1.6602521171274762,
          -1.7199527550809857,
          -1.772727750336392,
          -1.8183645966144066,
          -1.8566795304423092,
          -1.8875182711045912,
          -1.9107566418769473,
          -1.9263010700421153,
          -1.9340889636741831,
          -1.9340889636741831,
          -1.9263010700421153,
          -1.9107566418769473,
          -1.8875182711045912,
          -1.8566795304423092,
          -1.8183645966144069,
          -1.772727750336392,
          -1.7199527550809859,
          -1.660252117127476,
          -1.5938662298739334,
          -1.5210624058578421,
          -1.44213380038286,
          -1.3573982310858743,
          -1.2671968981975534,
          -1.1718930106494396,
          -1.071870323559777,
          -0.9675315929870892,
          -0.8592969541736909,
          -0.7476022298093407,
          -0.6328971751270966,
          -0.5156436668977286,
          -0.39631384361498395,
          -0.2753882043605035,
          -0.15335367400361402,
          -0.030701642526733932,
          0.09207401362864619,
          0.21447892022809312,
          0.33602019591477994,
          0.45620843686875395,
          0.574559687463381,
          0.6905973889838544,
          0.8038542985609365,
          0.913874370593078,
          1.0202145930811055,
          1.1224467714811792,
          1.2201592528930933,
          1.3129585836412105,
          1.4004710935735556,
          1.4823444006996258,
          1.558248830108299,
          1.62787874145234,
          1.6909537596542104,
          1.7472199038775464,
          1.7964506102183457,
          1.838447643997844,
          1.8730418979836034,
          1.9000940733246496,
          1.9194952404587802,
          1.9311672777334679,
          1.93506318597418
         ],
         "y": [
          0,
          0.12272929203760213,
          0.2449643965327077,
          0.36621311586163346,
          0.4859872242256217,
          0.6038044335638157,
          0.7191903355570609,
          0.8316803119027651,
          0.9408214051688206,
          1.0461741426933138,
          1.1473143061858255,
          1.2438346399047624,
          1.3353464905324886,
          1.421481372145063,
          1.5018924499750022,
          1.5762559369924736,
          1.6442723976813873,
          1.705667953760535,
          1.7601953869947649,
          1.8076351346555604,
          1.8477961736226554,
          1.880516789566717,
          1.9056652281158766,
          1.9231402253840812,
          1.9328714157250233,
          1.9348196150697627,
          1.9289769787071431,
          1.9153670328716743,
          1.8940445800116907,
          1.8650954781192322,
          1.8286362950102149,
          1.784813838946977,
          1.7338045674932228,
          1.6758138769816915,
          1.6110752754556208,
          1.5398494424142692,
          1.4624231791485816,
          1.3791082538936104,
          1.290240146447875,
          1.1961766973146135,
          1.0972966668043782,
          0.993998209900942,
          0.8866972730317099,
          0.7758259191982555,
          0.6618305882111145,
          0.5451702990342286,
          0.4263148014775927,
          0.30574268468055843,
          0.1839394500022909,
          0.06139555607914771,
          -0.0613955560791481,
          -0.18393945000229125,
          -0.3057426846805588,
          -0.4263148014775922,
          -0.545170299034229,
          -0.6618305882111141,
          -0.7758259191982558,
          -0.8866972730317094,
          -0.9939982099009422,
          -1.0972966668043778,
          -1.1961766973146137,
          -1.2902401464478748,
          -1.3791082538936108,
          -1.4624231791485813,
          -1.5398494424142692,
          -1.6110752754556206,
          -1.675813876981692,
          -1.733804567493223,
          -1.784813838946977,
          -1.8286362950102146,
          -1.8650954781192324,
          -1.8940445800116907,
          -1.9153670328716743,
          -1.928976978707143,
          -1.9348196150697627,
          -1.9328714157250233,
          -1.9231402253840812,
          -1.9056652281158768,
          -1.880516789566717,
          -1.8477961736226554,
          -1.8076351346555606,
          -1.7601953869947646,
          -1.7056679537605348,
          -1.6442723976813873,
          -1.5762559369924738,
          -1.5018924499750017,
          -1.4214813721450625,
          -1.3353464905324886,
          -1.243834639904763,
          -1.147314306185825,
          -1.0461741426933135,
          -0.9408214051688208,
          -0.8316803119027656,
          -0.7191903355570602,
          -0.6038044335638156,
          -0.485987224225622,
          -0.3662131158616325,
          -0.2449643965327073,
          -0.12272929203760216,
          -4.739537873702318e-16
         ]
        },
        {
         "hoverinfo": "skip",
         "line": {
          "color": "gray",
          "dash": "dot"
         },
         "mode": "lines",
         "showlegend": false,
         "type": "scatter",
         "x": [
          2.418828982467725,
          2.4139590971668348,
          2.3993690505734753,
          2.3751175916558114,
          2.341302372479504,
          2.2980595549973053,
          2.2455632627729316,
          2.184024879846933,
          2.113692199567763,
          2.034848426815425,
          1.9478110376353734,
          1.8529305008745325,
          1.7505888669669447,
          1.6411982295515128,
          1.5251990661163657,
          1.4030584643514743,
          1.2752682413513818,
          1.1423429632413469,
          1.0048178732011697,
          0.8632467362298185,
          0.7181996093292262,
          0.570260546085942,
          0.42002524489347604,
          0.268098650285117,
          0.11509251703580724,
          -0.038377053158418425,
          -0.19169209250451694,
          -0.34423525545062933,
          -0.4953923045187304,
          -0.6445545836221616,
          -0.7911214689088703,
          -0.9345027872616757,
          -1.074121192717114,
          -1.209414491233863,
          -1.3398379044497206,
          -1.4648662633118,
          -1.5839961227469412,
          -1.696747788857343,
          -1.8026672504785746,
          -1.901328007322303,
          -1.9923327873424164,
          -2.0753151464093453,
          -2.1499409438512322,
          -2.21590968792049,
          -2.2729557457680083,
          -2.3208494130528865,
          -2.359397838880739,
          -2.388445802346184,
          -2.407876337552644,
          -2.417611204592729,
          -2.417611204592729,
          -2.407876337552644,
          -2.388445802346184,
          -2.359397838880739,
          -2.3208494130528865,
          -2.2729557457680087,
          -2.21590968792049,
          -2.1499409438512322,
          -2.075315146409345,
          -1.9923327873424166,
          -1.9013280073223027,
          -1.802667250478575,
          -1.6967477888573428,
          -1.5839961227469417,
          -1.4648662633117993,
          -1.3398379044497213,
          -1.2094144912338616,
          -1.0741211927171137,
          -0.9345027872616757,
          -0.7911214689088708,
          -0.6445545836221606,
          -0.49539230451872995,
          -0.34423525545062933,
          -0.19169209250451752,
          -0.03837705315841741,
          0.11509251703580772,
          0.26809865028511637,
          0.4200252448934749,
          0.5702605460859425,
          0.7181996093292262,
          0.863246736229818,
          1.0048178732011706,
          1.1423429632413473,
          1.2752682413513818,
          1.4030584643514739,
          1.5251990661163666,
          1.641198229551513,
          1.7505888669669443,
          1.852930500874532,
          1.9478110376353737,
          2.034848426815425,
          2.113692199567763,
          2.184024879846933,
          2.245563262772932,
          2.2980595549973053,
          2.341302372479504,
          2.375117591655812,
          2.3993690505734753,
          2.4139590971668348,
          2.418828982467725
         ],
         "y": [
          0,
          0.15341161504700265,
          0.3062054956658846,
          0.4577663948270418,
          0.6074840302820271,
          0.7547555419547697,
          0.8989879194463261,
          1.0396003898784563,
          1.1760267564610256,
          1.307717678366642,
          1.434142882732282,
          1.5547932998809528,
          1.6691831131656105,
          1.7768517151813288,
          1.8773655624687526,
          1.970319921240592,
          2.055340497101734,
          2.1320849422006685,
          2.200244233743456,
          2.2595439183194506,
          2.309745217028319,
          2.350645986958396,
          2.3820815351448457,
          2.4039252817301016,
          2.416089269656279,
          2.418524518837203,
          2.4112212233839285,
          2.394208791089593,
          2.3675557250146135,
          2.3313693476490402,
          2.2857953687627686,
          2.2310172986837213,
          2.167255709366528,
          2.094767346227114,
          2.0138440943195257,
          1.9248118030178363,
          1.8280289739357267,
          1.7238853173670128,
          1.6128001830598435,
          1.495220871643267,
          1.3716208335054727,
          1.2424977623761775,
          1.1083715912896372,
          0.9697823989978194,
          0.8272882352638931,
          0.6814628737927858,
          0.5328935018469908,
          0.382178355850698,
          0.2299243125028636,
          0.07674444509893463,
          -0.07674444509893512,
          -0.22992431250286408,
          -0.3821783558506985,
          -0.5328935018469902,
          -0.6814628737927863,
          -0.8272882352638926,
          -0.9697823989978197,
          -1.1083715912896368,
          -1.2424977623761777,
          -1.371620833505472,
          -1.4952208716432671,
          -1.6128001830598433,
          -1.7238853173670134,
          -1.8280289739357265,
          -1.9248118030178365,
          -2.0138440943195257,
          -2.0947673462271146,
          -2.1672557093665286,
          -2.2310172986837213,
          -2.285795368762768,
          -2.3313693476490407,
          -2.3675557250146135,
          -2.394208791089593,
          -2.4112212233839285,
          -2.418524518837203,
          -2.416089269656279,
          -2.4039252817301016,
          -2.382081535144846,
          -2.350645986958396,
          -2.309745217028319,
          -2.2595439183194506,
          -2.200244233743456,
          -2.1320849422006685,
          -2.055340497101734,
          -1.9703199212405922,
          -1.877365562468752,
          -1.7768517151813281,
          -1.6691831131656105,
          -1.5547932998809537,
          -1.4341428827322813,
          -1.3077176783666418,
          -1.176026756461026,
          -1.039600389878457,
          -0.8989879194463253,
          -0.7547555419547696,
          -0.6074840302820275,
          -0.4577663948270407,
          -0.3062054956658841,
          -0.1534116150470027,
          -5.924422342127897e-16
         ]
        }
       ],
       "layout": {
        "dragmode": "pan",
        "height": 1000,
        "hovermode": "closest",
        "margin": {
         "b": 50,
         "l": 50,
         "r": 50,
         "t": 50
        },
        "showlegend": false,
        "template": {
         "data": {
          "bar": [
           {
            "error_x": {
             "color": "#2a3f5f"
            },
            "error_y": {
             "color": "#2a3f5f"
            },
            "marker": {
             "line": {
              "color": "white",
              "width": 0.5
             },
             "pattern": {
              "fillmode": "overlay",
              "size": 10,
              "solidity": 0.2
             }
            },
            "type": "bar"
           }
          ],
          "barpolar": [
           {
            "marker": {
             "line": {
              "color": "white",
              "width": 0.5
             },
             "pattern": {
              "fillmode": "overlay",
              "size": 10,
              "solidity": 0.2
             }
            },
            "type": "barpolar"
           }
          ],
          "carpet": [
           {
            "aaxis": {
             "endlinecolor": "#2a3f5f",
             "gridcolor": "#C8D4E3",
             "linecolor": "#C8D4E3",
             "minorgridcolor": "#C8D4E3",
             "startlinecolor": "#2a3f5f"
            },
            "baxis": {
             "endlinecolor": "#2a3f5f",
             "gridcolor": "#C8D4E3",
             "linecolor": "#C8D4E3",
             "minorgridcolor": "#C8D4E3",
             "startlinecolor": "#2a3f5f"
            },
            "type": "carpet"
           }
          ],
          "choropleth": [
           {
            "colorbar": {
             "outlinewidth": 0,
             "ticks": ""
            },
            "type": "choropleth"
           }
          ],
          "contour": [
           {
            "colorbar": {
             "outlinewidth": 0,
             "ticks": ""
            },
            "colorscale": [
             [
              0,
              "#0d0887"
             ],
             [
              0.1111111111111111,
              "#46039f"
             ],
             [
              0.2222222222222222,
              "#7201a8"
             ],
             [
              0.3333333333333333,
              "#9c179e"
             ],
             [
              0.4444444444444444,
              "#bd3786"
             ],
             [
              0.5555555555555556,
              "#d8576b"
             ],
             [
              0.6666666666666666,
              "#ed7953"
             ],
             [
              0.7777777777777778,
              "#fb9f3a"
             ],
             [
              0.8888888888888888,
              "#fdca26"
             ],
             [
              1,
              "#f0f921"
             ]
            ],
            "type": "contour"
           }
          ],
          "contourcarpet": [
           {
            "colorbar": {
             "outlinewidth": 0,
             "ticks": ""
            },
            "type": "contourcarpet"
           }
          ],
          "heatmap": [
           {
            "colorbar": {
             "outlinewidth": 0,
             "ticks": ""
            },
            "colorscale": [
             [
              0,
              "#0d0887"
             ],
             [
              0.1111111111111111,
              "#46039f"
             ],
             [
              0.2222222222222222,
              "#7201a8"
             ],
             [
              0.3333333333333333,
              "#9c179e"
             ],
             [
              0.4444444444444444,
              "#bd3786"
             ],
             [
              0.5555555555555556,
              "#d8576b"
             ],
             [
              0.6666666666666666,
              "#ed7953"
             ],
             [
              0.7777777777777778,
              "#fb9f3a"
             ],
             [
              0.8888888888888888,
              "#fdca26"
             ],
             [
              1,
              "#f0f921"
             ]
            ],
            "type": "heatmap"
           }
          ],
          "heatmapgl": [
           {
            "colorbar": {
             "outlinewidth": 0,
             "ticks": ""
            },
            "colorscale": [
             [
              0,
              "#0d0887"
             ],
             [
              0.1111111111111111,
              "#46039f"
             ],
             [
              0.2222222222222222,
              "#7201a8"
             ],
             [
              0.3333333333333333,
              "#9c179e"
             ],
             [
              0.4444444444444444,
              "#bd3786"
             ],
             [
              0.5555555555555556,
              "#d8576b"
             ],
             [
              0.6666666666666666,
              "#ed7953"
             ],
             [
              0.7777777777777778,
              "#fb9f3a"
             ],
             [
              0.8888888888888888,
              "#fdca26"
             ],
             [
              1,
              "#f0f921"
             ]
            ],
            "type": "heatmapgl"
           }
          ],
          "histogram": [
           {
            "marker": {
             "pattern": {
              "fillmode": "overlay",
              "size": 10,
              "solidity": 0.2
             }
            },
            "type": "histogram"
           }
          ],
          "histogram2d": [
           {
            "colorbar": {
             "outlinewidth": 0,
             "ticks": ""
            },
            "colorscale": [
             [
              0,
              "#0d0887"
             ],
             [
              0.1111111111111111,
              "#46039f"
             ],
             [
              0.2222222222222222,
              "#7201a8"
             ],
             [
              0.3333333333333333,
              "#9c179e"
             ],
             [
              0.4444444444444444,
              "#bd3786"
             ],
             [
              0.5555555555555556,
              "#d8576b"
             ],
             [
              0.6666666666666666,
              "#ed7953"
             ],
             [
              0.7777777777777778,
              "#fb9f3a"
             ],
             [
              0.8888888888888888,
              "#fdca26"
             ],
             [
              1,
              "#f0f921"
             ]
            ],
            "type": "histogram2d"
           }
          ],
          "histogram2dcontour": [
           {
            "colorbar": {
             "outlinewidth": 0,
             "ticks": ""
            },
            "colorscale": [
             [
              0,
              "#0d0887"
             ],
             [
              0.1111111111111111,
              "#46039f"
             ],
             [
              0.2222222222222222,
              "#7201a8"
             ],
             [
              0.3333333333333333,
              "#9c179e"
             ],
             [
              0.4444444444444444,
              "#bd3786"
             ],
             [
              0.5555555555555556,
              "#d8576b"
             ],
             [
              0.6666666666666666,
              "#ed7953"
             ],
             [
              0.7777777777777778,
              "#fb9f3a"
             ],
             [
              0.8888888888888888,
              "#fdca26"
             ],
             [
              1,
              "#f0f921"
             ]
            ],
            "type": "histogram2dcontour"
           }
          ],
          "mesh3d": [
           {
            "colorbar": {
             "outlinewidth": 0,
             "ticks": ""
            },
            "type": "mesh3d"
           }
          ],
          "parcoords": [
           {
            "line": {
             "colorbar": {
              "outlinewidth": 0,
              "ticks": ""
             }
            },
            "type": "parcoords"
           }
          ],
          "pie": [
           {
            "automargin": true,
            "type": "pie"
           }
          ],
          "scatter": [
           {
            "fillpattern": {
             "fillmode": "overlay",
             "size": 10,
             "solidity": 0.2
            },
            "type": "scatter"
           }
          ],
          "scatter3d": [
           {
            "line": {
             "colorbar": {
              "outlinewidth": 0,
              "ticks": ""
             }
            },
            "marker": {
             "colorbar": {
              "outlinewidth": 0,
              "ticks": ""
             }
            },
            "type": "scatter3d"
           }
          ],
          "scattercarpet": [
           {
            "marker": {
             "colorbar": {
              "outlinewidth": 0,
              "ticks": ""
             }
            },
            "type": "scattercarpet"
           }
          ],
          "scattergeo": [
           {
            "marker": {
             "colorbar": {
              "outlinewidth": 0,
              "ticks": ""
             }
            },
            "type": "scattergeo"
           }
          ],
          "scattergl": [
           {
            "marker": {
             "colorbar": {
              "outlinewidth": 0,
              "ticks": ""
             }
            },
            "type": "scattergl"
           }
          ],
          "scattermapbox": [
           {
            "marker": {
             "colorbar": {
              "outlinewidth": 0,
              "ticks": ""
             }
            },
            "type": "scattermapbox"
           }
          ],
          "scatterpolar": [
           {
            "marker": {
             "colorbar": {
              "outlinewidth": 0,
              "ticks": ""
             }
            },
            "type": "scatterpolar"
           }
          ],
          "scatterpolargl": [
           {
            "marker": {
             "colorbar": {
              "outlinewidth": 0,
              "ticks": ""
             }
            },
            "type": "scatterpolargl"
           }
          ],
          "scatterternary": [
           {
            "marker": {
             "colorbar": {
              "outlinewidth": 0,
              "ticks": ""
             }
            },
            "type": "scatterternary"
           }
          ],
          "surface": [
           {
            "colorbar": {
             "outlinewidth": 0,
             "ticks": ""
            },
            "colorscale": [
             [
              0,
              "#0d0887"
             ],
             [
              0.1111111111111111,
              "#46039f"
             ],
             [
              0.2222222222222222,
              "#7201a8"
             ],
             [
              0.3333333333333333,
              "#9c179e"
             ],
             [
              0.4444444444444444,
              "#bd3786"
             ],
             [
              0.5555555555555556,
              "#d8576b"
             ],
             [
              0.6666666666666666,
              "#ed7953"
             ],
             [
              0.7777777777777778,
              "#fb9f3a"
             ],
             [
              0.8888888888888888,
              "#fdca26"
             ],
             [
              1,
              "#f0f921"
             ]
            ],
            "type": "surface"
           }
          ],
          "table": [
           {
            "cells": {
             "fill": {
              "color": "#EBF0F8"
             },
             "line": {
              "color": "white"
             }
            },
            "header": {
             "fill": {
              "color": "#C8D4E3"
             },
             "line": {
              "color": "white"
             }
            },
            "type": "table"
           }
          ]
         },
         "layout": {
          "annotationdefaults": {
           "arrowcolor": "#2a3f5f",
           "arrowhead": 0,
           "arrowwidth": 1
          },
          "autotypenumbers": "strict",
          "coloraxis": {
           "colorbar": {
            "outlinewidth": 0,
            "ticks": ""
           }
          },
          "colorscale": {
           "diverging": [
            [
             0,
             "#8e0152"
            ],
            [
             0.1,
             "#c51b7d"
            ],
            [
             0.2,
             "#de77ae"
            ],
            [
             0.3,
             "#f1b6da"
            ],
            [
             0.4,
             "#fde0ef"
            ],
            [
             0.5,
             "#f7f7f7"
            ],
            [
             0.6,
             "#e6f5d0"
            ],
            [
             0.7,
             "#b8e186"
            ],
            [
             0.8,
             "#7fbc41"
            ],
            [
             0.9,
             "#4d9221"
            ],
            [
             1,
             "#276419"
            ]
           ],
           "sequential": [
            [
             0,
             "#0d0887"
            ],
            [
             0.1111111111111111,
             "#46039f"
            ],
            [
             0.2222222222222222,
             "#7201a8"
            ],
            [
             0.3333333333333333,
             "#9c179e"
            ],
            [
             0.4444444444444444,
             "#bd3786"
            ],
            [
             0.5555555555555556,
             "#d8576b"
            ],
            [
             0.6666666666666666,
             "#ed7953"
            ],
            [
             0.7777777777777778,
             "#fb9f3a"
            ],
            [
             0.8888888888888888,
             "#fdca26"
            ],
            [
             1,
             "#f0f921"
            ]
           ],
           "sequentialminus": [
            [
             0,
             "#0d0887"
            ],
            [
             0.1111111111111111,
             "#46039f"
            ],
            [
             0.2222222222222222,
             "#7201a8"
            ],
            [
             0.3333333333333333,
             "#9c179e"
            ],
            [
             0.4444444444444444,
             "#bd3786"
            ],
            [
             0.5555555555555556,
             "#d8576b"
            ],
            [
             0.6666666666666666,
             "#ed7953"
            ],
            [
             0.7777777777777778,
             "#fb9f3a"
            ],
            [
             0.8888888888888888,
             "#fdca26"
            ],
            [
             1,
             "#f0f921"
            ]
           ]
          },
          "colorway": [
           "#636efa",
           "#EF553B",
           "#00cc96",
           "#ab63fa",
           "#FFA15A",
           "#19d3f3",
           "#FF6692",
           "#B6E880",
           "#FF97FF",
           "#FECB52"
          ],
          "font": {
           "color": "#2a3f5f"
          },
          "geo": {
           "bgcolor": "white",
           "lakecolor": "white",
           "landcolor": "white",
           "showlakes": true,
           "showland": true,
           "subunitcolor": "#C8D4E3"
          },
          "hoverlabel": {
           "align": "left"
          },
          "hovermode": "closest",
          "mapbox": {
           "style": "light"
          },
          "paper_bgcolor": "white",
          "plot_bgcolor": "white",
          "polar": {
           "angularaxis": {
            "gridcolor": "#EBF0F8",
            "linecolor": "#EBF0F8",
            "ticks": ""
           },
           "bgcolor": "white",
           "radialaxis": {
            "gridcolor": "#EBF0F8",
            "linecolor": "#EBF0F8",
            "ticks": ""
           }
          },
          "scene": {
           "xaxis": {
            "backgroundcolor": "white",
            "gridcolor": "#DFE8F3",
            "gridwidth": 2,
            "linecolor": "#EBF0F8",
            "showbackground": true,
            "ticks": "",
            "zerolinecolor": "#EBF0F8"
           },
           "yaxis": {
            "backgroundcolor": "white",
            "gridcolor": "#DFE8F3",
            "gridwidth": 2,
            "linecolor": "#EBF0F8",
            "showbackground": true,
            "ticks": "",
            "zerolinecolor": "#EBF0F8"
           },
           "zaxis": {
            "backgroundcolor": "white",
            "gridcolor": "#DFE8F3",
            "gridwidth": 2,
            "linecolor": "#EBF0F8",
            "showbackground": true,
            "ticks": "",
            "zerolinecolor": "#EBF0F8"
           }
          },
          "shapedefaults": {
           "line": {
            "color": "#2a3f5f"
           }
          },
          "ternary": {
           "aaxis": {
            "gridcolor": "#DFE8F3",
            "linecolor": "#A2B1C6",
            "ticks": ""
           },
           "baxis": {
            "gridcolor": "#DFE8F3",
            "linecolor": "#A2B1C6",
            "ticks": ""
           },
           "bgcolor": "white",
           "caxis": {
            "gridcolor": "#DFE8F3",
            "linecolor": "#A2B1C6",
            "ticks": ""
           }
          },
          "title": {
           "x": 0.05
          },
          "xaxis": {
           "automargin": true,
           "gridcolor": "#EBF0F8",
           "linecolor": "#EBF0F8",
           "ticks": "",
           "title": {
            "standoff": 15
           },
           "zerolinecolor": "#EBF0F8",
           "zerolinewidth": 2
          },
          "yaxis": {
           "automargin": true,
           "gridcolor": "#EBF0F8",
           "linecolor": "#EBF0F8",
           "ticks": "",
           "title": {
            "standoff": 15
           },
           "zerolinecolor": "#EBF0F8",
           "zerolinewidth": 2
          }
         }
        },
        "title": {
         "text": "Radial Graph of SOCs and Association Scores"
        },
        "width": 1000,
        "xaxis": {
         "scaleanchor": "y",
         "scaleratio": 1,
         "showgrid": false,
         "visible": false,
         "zeroline": false
        },
        "yaxis": {
         "scaleanchor": "x",
         "showgrid": false,
         "visible": false,
         "zeroline": false
        }
       }
      }
     },
     "metadata": {},
     "output_type": "display_data"
    }
   ],
   "source": [
    "# Top n SOCs\n",
    "n = 77\n",
    "analyser.SOC_dist_vis(n, sub_SenSOC, output_folder, mode)"
   ]
  },
  {
   "cell_type": "code",
   "execution_count": 17,
   "metadata": {},
   "outputs": [
    {
     "name": "stdout",
     "output_type": "stream",
     "text": [
      "Context for time_final_no_det-time_3 extracted and saved to ./output/time_final_no_det-time_3_context.csv.\n"
     ]
    }
   ],
   "source": [
    "# Get the raw context for the tokens\n",
    "analyser.get_context(token, sense, token_list, input_folder, output_folder)"
   ]
  }
 ],
 "metadata": {
  "kernelspec": {
   "display_name": "KUL310",
   "language": "python",
   "name": "python3"
  },
  "language_info": {
   "codemirror_mode": {
    "name": "ipython",
    "version": 3
   },
   "file_extension": ".py",
   "mimetype": "text/x-python",
   "name": "python",
   "nbconvert_exporter": "python",
   "pygments_lexer": "ipython3",
   "version": "3.10.14"
  }
 },
 "nbformat": 4,
 "nbformat_minor": 2
}
