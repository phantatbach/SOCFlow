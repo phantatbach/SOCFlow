{
 "cells": [
  {
   "cell_type": "markdown",
   "metadata": {},
   "source": [
    "# Import"
   ]
  },
  {
   "cell_type": "code",
   "execution_count": 123,
   "metadata": {},
   "outputs": [],
   "source": [
    "import sys\n",
    "nephosemdir = \"D:/OneDrive - KU Leuven/KUL/nephosem\"\n",
    "tokens_coordinates_dir = 'tokens_coordinates'\n",
    "SOC_analysis_dir = 'SOC_analysis'\n",
    "\n",
    "sys.path.append(nephosemdir)\n",
    "sys.path.append(tokens_coordinates_dir)\n",
    "sys.path.append(SOC_analysis_dir)\n",
    "\n",
    "mydir = f\"./\""
   ]
  },
  {
   "cell_type": "code",
   "execution_count": 124,
   "metadata": {},
   "outputs": [
    {
     "data": {
      "text/plain": [
       "<module 'get_model_data' from 'd:\\\\OneDrive - KU Leuven\\\\KUL\\\\SOCFlow\\\\tokens_coordinates\\\\get_model_data.py'>"
      ]
     },
     "execution_count": 124,
     "metadata": {},
     "output_type": "execute_result"
    }
   ],
   "source": [
    "# tokens_coordinates\n",
    "import get_model_data\n",
    "import get_token_ids\n",
    "import importlib\n",
    "# Import the module before reloading\n",
    "importlib.reload(get_token_ids)\n",
    "importlib.reload(get_model_data)"
   ]
  },
  {
   "cell_type": "code",
   "execution_count": 125,
   "metadata": {},
   "outputs": [],
   "source": [
    "# Nephosem\n",
    "from nephosem import ConfigLoader, TypeTokenMatrix\n",
    "conf = ConfigLoader()\n",
    "settings = conf.update_config('config.ini')"
   ]
  },
  {
   "cell_type": "code",
   "execution_count": 126,
   "metadata": {},
   "outputs": [
    {
     "data": {
      "text/plain": [
       "<module 'SOC_analysis' from 'd:\\\\OneDrive - KU Leuven\\\\KUL\\\\SOCFlow\\\\SOC_analysis\\\\SOC_analysis.py'>"
      ]
     },
     "execution_count": 126,
     "metadata": {},
     "output_type": "execute_result"
    }
   ],
   "source": [
    "# SOC_analysis\n",
    "import SOC_analysis\n",
    "import importlib\n",
    "# Import the module before reloading\n",
    "importlib.reload(SOC_analysis)"
   ]
  },
  {
   "cell_type": "code",
   "execution_count": 127,
   "metadata": {},
   "outputs": [],
   "source": [
    "analyser = SOC_analysis.SOCAnalyser()\n",
    "\n",
    "token = 'freedom'\n",
    "model = 'freedom.nobound3-3NVAA.PPMIno.LENGTH5000.SOCPOSNVAA'\n",
    "input_folder = './input/'\n",
    "output_folder = './output/'"
   ]
  },
  {
   "cell_type": "markdown",
   "metadata": {},
   "source": [
    "# Get the coordinates of the tokens"
   ]
  },
  {
   "cell_type": "code",
   "execution_count": 128,
   "metadata": {},
   "outputs": [
    {
     "name": "stdout",
     "output_type": "stream",
     "text": [
      "Distance matrix saved to ./input//freedom.nobound3-3NVAA.PPMIno.LENGTH5000.SOCPOSNVAA.ttmx.dist.csv\n"
     ]
    }
   ],
   "source": [
    "# Get the distance matrix for calculating HDBSCAN\n",
    "distance_matrix = TypeTokenMatrix.load(f'{input_folder}/{model}.ttmx.dist.pac')\n",
    "distance_matrix.to_csv(f'{input_folder}/{model}.ttmx.dist.csv', sep=',')\n",
    "print(f'Distance matrix saved to {input_folder}/{model}.ttmx.dist.csv')"
   ]
  },
  {
   "cell_type": "code",
   "execution_count": 129,
   "metadata": {},
   "outputs": [
    {
     "name": "stdout",
     "output_type": "stream",
     "text": [
      "The coordinates of freedom-freedom.nobound3-3NVAA.PPMIno.LENGTH5000.SOCPOSNVAA were extracted\n",
      "Updated t-SNE file saved to ./input/visualisation\\freedom-freedom.nobound3-3NVAA.PPMIno.LENGTH5000.SOCPOSNVAA.tsne.30.tsv\n",
      "No-noise t-SNE file saved to ./input/visualisation\\no_noise-freedom-freedom.nobound3-3NVAA.PPMIno.LENGTH5000.SOCPOSNVAA.tsne.30.tsv\n",
      "The additional information for freedom-freedom.nobound3-3NVAA.PPMIno.LENGTH5000.SOCPOSNVAA was added successfully.\n",
      "The model data was extracted\n"
     ]
    }
   ],
   "source": [
    "# Get the coordinates and other information (incl. HDBSCAN) of the tokens of the model.\n",
    "\n",
    "# get_model_data.get_model_data(token=token, model=model, input_folder=input_folder, min_cluster_size = 8, min_samples = 8) # Calculate HDBSCAN clusters using distance matrix\n",
    "get_model_data.get_model_data(token=token, model=model, input_folder=input_folder, source='semcloud') # Use available HDBSCAN results from semcloud"
   ]
  },
  {
   "cell_type": "code",
   "execution_count": 130,
   "metadata": {},
   "outputs": [
    {
     "data": {
      "text/html": [
       "\n",
       "        <iframe\n",
       "            width=\"100%\"\n",
       "            height=\"650\"\n",
       "            src=\"http://127.0.0.1:5898/\"\n",
       "            frameborder=\"0\"\n",
       "            allowfullscreen\n",
       "            \n",
       "        ></iframe>\n",
       "        "
      ],
      "text/plain": [
       "<IPython.lib.display.IFrame at 0x1d00a3fc350>"
      ]
     },
     "metadata": {},
     "output_type": "display_data"
    },
    {
     "name": "stdout",
     "output_type": "stream",
     "text": [
      "Open the app in your browser (http://127.0.0.1:5898).\n"
     ]
    }
   ],
   "source": [
    "# Visualisation to get the token ids\n",
    "get_token_ids.get_token_ids(token, model, input_folder, mode='nonoise')"
   ]
  },
  {
   "cell_type": "markdown",
   "metadata": {},
   "source": [
    "# Get the sub-matrix of the SOC matrix"
   ]
  },
  {
   "cell_type": "code",
   "execution_count": 131,
   "metadata": {},
   "outputs": [],
   "source": [
    "# List of tokens copied from the token_coordinate\n",
    "token_list = ['freedom/nn1/fic_1992_40311_cleaned_part92/39', 'freedom/nn1/fic_1993_1040060_cleaned_part922/4', 'freedom/nn1/fic_1993_1040095_cleaned_part320/43', 'freedom/nn1/fic_1993_25030_cleaned_part372/41', 'freedom/nn1/fic_1994_41215_cleaned_part86/57', 'freedom/nn1/fic_1994_41228_cleaned_part60/45', 'freedom/nn1/fic_1994_54046_cleaned_part7/85', 'freedom/nn1/fic_1994_54078_cleaned_part134/13', 'freedom/nn1/fic_1995_39252_cleaned_part23/77', 'freedom/nn1/fic_1995_39352_cleaned_part234/6', 'freedom/nn1/fic_1995_39372_cleaned_part153/83', 'freedom/nn1/fic_1995_39397_cleaned_part106/11', 'freedom/nn1/fic_1995_39512_cleaned_part284/26', 'freedom/nn1/fic_1996_54286_cleaned_part22/44', 'freedom/nn1/fic_1996_54389_cleaned_part188/13', 'freedom/nn1/fic_1997_32977_cleaned_part8/75', 'freedom/nn1/fic_1997_42212_cleaned_part244/27', 'freedom/nn1/fic_1997_54639_cleaned_part163/17', 'freedom/nn1/fic_1998_32277_cleaned_part21/35', 'freedom/nn1/fic_1998_43415_cleaned_part29/37', 'freedom/nn1/fic_1998_44210_cleaned_part24/39', 'freedom/nn1/fic_1998_44210_cleaned_part98/46', 'freedom/nn1/fic_1998_44223_cleaned_part13/38', 'freedom/nn1/fic_1999_44245_cleaned_part41/54', 'freedom/nn1/fic_1999_44505_cleaned_part117/14', 'freedom/nn1/fic_1999_45413_cleaned_part43/22', 'freedom/nn1/fic_1999_55360_cleaned_part58/25', 'freedom/nn1/fic_1999_55365_cleaned_part106/52', 'freedom/nn1/fic_2000_29169_cleaned_part76/72', 'freedom/nn1/fic_2000_29219_cleaned_part23/67', 'freedom/nn1/fic_2000_30580_cleaned_part37/53', 'freedom/nn1/fic_2000_38540_cleaned_part115/31', 'freedom/nn1/fic_2002_30470_cleaned_part149/134', 'freedom/nn1/fic_2002_31970_cleaned_part6/15', 'freedom/nn1/fic_2002_46765_cleaned_part52/22', 'freedom/nn1/fic_2003_28631_cleaned_part39/58', 'freedom/nn1/fic_2004_49005_cleaned_part3/63', 'freedom/nn1/fic_2005_30423_cleaned_part54/50', 'freedom/nn1/fic_2005_31478_cleaned_part3/62', 'freedom/nn1/fic_2005_32132_cleaned_part20/2', 'freedom/nn1/fic_2005_50112_cleaned_part33/54', 'freedom/nn1/fic_2006_28389_cleaned_part34/6', 'freedom/nn1/fic_2006_31492_cleaned_part1/25', 'freedom/nn1/fic_2006_31492_cleaned_part27/34', 'freedom/nn1/fic_2006_31509_cleaned_part3/19', 'freedom/nn1/fic_2007_33446_cleaned_part9/7', 'freedom/nn1/fic_2007_33482_cleaned_part28/103', 'freedom/nn1/fic_2007_34319_cleaned_part21/29', 'freedom/nn1/fic_2007_34420_cleaned_part9/62', 'freedom/nn1/fic_2008_36134_cleaned_part26/49', 'freedom/nn1/fic_2008_36315_cleaned_part23/20', 'freedom/nn1/fic_2008_36316_cleaned_part10/37', 'freedom/nn1/fic_2009_36618_cleaned_part18/14', 'freedom/nn1/fic_2009_36624_cleaned_part52/40', 'freedom/nn1/mag_1990_339860_cleaned_part3/10', 'freedom/nn1/mag_1990_419794_cleaned_part3/60', 'freedom/nn1/mag_1990_420727_cleaned_part94/25', 'freedom/nn1/mag_1990_421514_cleaned_part5/159', 'freedom/nn1/mag_1991_387449_cleaned_part87/30', 'freedom/nn1/mag_1992_394673_cleaned_part94/37', 'freedom/nn1/mag_1993_396008_cleaned_part11/37', 'freedom/nn1/mag_1994_351590_cleaned_part4/95', 'freedom/nn1/mag_1994_393651_cleaned_part27/44', 'freedom/nn1/mag_1994_409088_cleaned_part38/44', 'freedom/nn1/mag_1994_410158_cleaned_part30/11', 'freedom/nn1/mag_1994_410748_cleaned_part18/49', 'freedom/nn1/mag_1994_425559_cleaned_part38/154', 'freedom/nn1/mag_1994_425606_cleaned_part9/4', 'freedom/nn1/mag_1995_426994_cleaned_part14/62', 'freedom/nn1/mag_1996_429149_cleaned_part25/15', 'freedom/nn1/mag_1997_386701_cleaned_part28/151', 'freedom/nn1/mag_1998_402027_cleaned_part47/11', 'freedom/nn1/mag_1999_399296_cleaned_part59/5', 'freedom/nn1/mag_1999_399392_cleaned_part21/76', 'freedom/nn1/mag_1999_407430_cleaned_part55/18', 'freedom/nn1/mag_1999_407884_cleaned_part189/7', 'freedom/nn1/mag_2000_367008_cleaned_part5/62', 'freedom/nn1/mag_2001_416863_cleaned_part50/45', 'freedom/nn1/mag_2001_417140_cleaned_part9/51', 'freedom/nn1/mag_2002_385037_cleaned_part40/77', 'freedom/nn1/mag_2003_387019_cleaned_part5/98', 'freedom/nn1/mag_2003_402044_cleaned_part16/64', 'freedom/nn1/mag_2003_407768_cleaned_part11/5', 'freedom/nn1/mag_2003_407768_cleaned_part5/77', 'freedom/nn1/mag_2004_363687_cleaned_part8/33', 'freedom/nn1/mag_2005_379674_cleaned_part1/64', 'freedom/nn1/mag_2005_396826_cleaned_part6/50', 'freedom/nn1/mag_2006_383690_cleaned_part11/52', 'freedom/nn1/news_1995_638710_cleaned_part15/23', 'freedom/nn1/news_1998_626750_cleaned_part7/22', 'freedom/nn1/news_1999_639373_cleaned_part38/42', 'freedom/nn1/news_1999_639373_cleaned_part9/73', 'freedom/nn1/news_2002_634176_cleaned_part21/32', 'freedom/nn1/news_2003_617150_cleaned_part20/164', 'freedom/nn1/news_2003_623037_cleaned_part24/75', 'freedom/nn1/news_2006_618149_cleaned_part18/88', 'freedom/nn1/news_2006_629431_cleaned_part10/53', 'freedom/nn1/nf_1993_774078_cleaned_part259/146', 'freedom/nn1/nf_1995_773426_cleaned_part119/118', 'freedom/nn1/nf_1995_773714_cleaned_part53/55', 'freedom/nn1/nf_1995_773909_cleaned_part219/34', 'freedom/nn1/nf_1998_773548_cleaned_part108/74', 'freedom/nn1/nf_1998_773596_cleaned_part162/76', 'freedom/nn1/nf_1998_775155_cleaned_part37/29', 'freedom/nn1/nf_1998_775249_cleaned_part34/122', 'freedom/nn1/nf_1999_774953_cleaned_part38/76', 'freedom/nn1/nf_1999_775053_cleaned_part6/108', 'freedom/nn1/nf_2002_776266_cleaned_part96/78', 'freedom/nn1/nf_2004_747059_cleaned_part42/97', 'freedom/nn1/nf_2007_775307_cleaned_part52/62', 'freedom/nn1/nf_2009_774612_cleaned_part5/15', 'freedom/nn1/nf_2009_774633_cleaned_part62/117', 'freedom/nn2/fic_2007_52369_cleaned_part49/17', 'freedom/nn2/mag_1995_396719_cleaned_part50/67', 'freedom/nn2/news_1993_630369_cleaned_part13/25']\n",
    "\n",
    "# Name of the region\n",
    "region = 'freedom_64'"
   ]
  },
  {
   "cell_type": "code",
   "execution_count": 132,
   "metadata": {},
   "outputs": [],
   "source": [
    "# Get the full SOC matrix\n",
    "model_file = f'{input_folder}{model}.tcmx.soc.pac'\n",
    "model_mtx = TypeTokenMatrix.load(model_file) # opens a matrix\n",
    "\n",
    "# Get the submatrix of only the tokens under investigation\n",
    "subset_rows = model_mtx.submatrix(row = token_list)\n",
    "subset_rows.to_csv(f'{input_folder}{region}_SOCs.csv', sep=',')"
   ]
  },
  {
   "cell_type": "code",
   "execution_count": 134,
   "metadata": {},
   "outputs": [
    {
     "name": "stdout",
     "output_type": "stream",
     "text": [
      "Filtered SOC matrix saved to: ./output/freedom_64_Verb_SOCs.csv\n"
     ]
    }
   ],
   "source": [
    "# List of POS tags\n",
    "POS_name = 'Verb'\n",
    "POS_list = ['/v']\n",
    "RegSOC_file = 'input/freedom_64_SOCs.csv'\n",
    "sub_regSOC = 'freedom_64' # Name of the region\n",
    "\n",
    "# Get the submatrix of only the POS tags\n",
    "SOC_analysis.get_POS_submtx(RegSOC_file=RegSOC_file, sub_regSOC=sub_regSOC, POS_list=POS_list, output_folder=output_folder, POS_name=POS_name)"
   ]
  },
  {
   "cell_type": "markdown",
   "metadata": {},
   "source": [
    "# SOC Analysis"
   ]
  },
  {
   "cell_type": "code",
   "execution_count": 136,
   "metadata": {},
   "outputs": [
    {
     "name": "stdout",
     "output_type": "stream",
     "text": [
      "Elbow index: 32\n",
      "Elbow SOC: wave/vvd (Association Score: 0.0005030676935040519)\n"
     ]
    },
    {
     "data": {
      "image/png": "[encoded data removed]",
      "text/plain": [
       "<Figure size 1200x600 with 1 Axes>"
      ]
     },
     "metadata": {},
     "output_type": "display_data"
    }
   ],
   "source": [
    "# Choose the submatrix\n",
    "sub_RegSOC = 'freedom_64' # Name of the region\n",
    "sub_regSOC_file = 'output/freedom_64_Verb_SOCs.csv'\n",
    "mode = 'avg'\n",
    "\n",
    "# Find the elbow\n",
    "analyser.elbow_finder(region=region, sub_regSOC_file=sub_regSOC_file, mode=mode)"
   ]
  },
  {
   "cell_type": "code",
   "execution_count": 138,
   "metadata": {},
   "outputs": [
    {
     "name": "stdout",
     "output_type": "stream",
     "text": [
      "Top 32 SOCs extracted and saved to: ./output/freedom_64-avg-top_32-Verb_SOCs.csv\n"
     ]
    },
    {
     "data": {
      "application/vnd.plotly.v1+json": {
       "config": {
        "plotlyServerURL": "https://plot.ly"
       },
       "data": [
        {
         "hoverinfo": "text",
         "marker": {
          "color": "red",
          "size": 20
         },
         "mode": "markers+text",
         "name": "region",
         "text": [
          "freedom_64"
         ],
         "textposition": "top center",
         "type": "scatter",
         "x": [
          0
         ],
         "y": [
          0
         ]
        },
        {
         "customdata": [
          [
           0.0006962453121855807,
           1
          ],
          [
           0.0006689349821897831,
           1.0408265836335786
          ],
          [
           0.0006158448486589786,
           1.1305531152881714
          ],
          [
           0.0006150681240586109,
           1.131980808225455
          ],
          [
           0.0005955750548187893,
           1.1690303456336357
          ],
          [
           0.0005783757461267905,
           1.2037941024465972
          ],
          [
           0.0005761889411190115,
           1.2083628520072058
          ],
          [
           0.0005705336533397929,
           1.2203404796717885
          ],
          [
           0.000568804023198554,
           1.2240513143180431
          ],
          [
           0.0005614194940077836,
           1.240151650622819
          ],
          [
           0.0005511506954887489,
           1.2632576133613784
          ],
          [
           0.0005506805183172748,
           1.2643361968081077
          ],
          [
           0.0005489828930581185,
           1.2682459162017499
          ],
          [
           0.00054893859158211,
           1.268348268572108
          ],
          [
           0.0005471469343515027,
           1.2725015319893815
          ],
          [
           0.0005470997907461482,
           1.2726111834845049
          ],
          [
           0.0005455653502889791,
           1.2761904908674797
          ],
          [
           0.0005453760267093129,
           1.2766335117195784
          ],
          [
           0.0005432862723761374,
           1.281544091185032
          ],
          [
           0.0005372816628541052,
           1.2958665078704557
          ],
          [
           0.0005337817578740629,
           1.3043632569209092
          ],
          [
           0.0005279702322284121,
           1.3187207719020966
          ],
          [
           0.000526357696916111,
           1.3227607694631012
          ],
          [
           0.0005263300975000245,
           1.3228301316847044
          ],
          [
           0.0005220496832382015,
           1.3336763425788671
          ],
          [
           0.0005217979391891773,
           1.3343197814607652
          ],
          [
           0.0005170525665845047,
           1.3465658178331266
          ],
          [
           0.0005144315733381567,
           1.353426477437283
          ],
          [
           0.0005114832504143324,
           1.36122798082162
          ],
          [
           0.0005092219614649248,
           1.3672727511253224
          ],
          [
           0.0005063698198765541,
           1.3749739515583996
          ],
          [
           0.0005030676935040519,
           1.3839992533330367
          ]
         ],
         "hovertemplate": "<b>SOC:</b> %{text}<br><b>Raw Association Score:</b> %{customdata[0]:.4f}<br><b>Distance (Inverse):</b> %{customdata[1]:.4f}",
         "marker": {
          "color": "blue",
          "size": 10
         },
         "mode": "markers+text",
         "name": "SOCs",
         "text": [
          "hang/vvg",
          "slide/vvd",
          "hang/vvd",
          "fly/vvd",
          "run/vvd",
          "stretch/vvd",
          "fly/vvg",
          "hit/vvd",
          "float/vvg",
          "climb/vvg",
          "burn/vvd",
          "kick/vvd",
          "press/vvd",
          "hang/vvz",
          "wave/vvg",
          "rest/vvg",
          "climb/vvd",
          "drop/vvz",
          "leave/vvz",
          "lift/vvg",
          "cover/vvg",
          "land/vvd",
          "pull/vvg",
          "leap/vvd",
          "pull/vvd",
          "smell/vvd",
          "cross/vvd",
          "blow/vvd",
          "fill/vvd",
          "reach/vvg",
          "leave/vvg",
          "wave/vvd"
         ],
         "type": "scatter",
         "x": [
          1,
          1.0208273926801958,
          1.0444948836316146,
          0.9412076437491409,
          0.8266292848103973,
          0.668792170003879,
          0.4624204437485866,
          0.23807661714848571,
          7.495152620358511e-17,
          -0.24194158486883865,
          -0.48342775944246374,
          -0.7024275554757977,
          -0.8967852875584031,
          -1.0545930431342552,
          -1.175638120494246,
          -1.2481583164381371,
          -1.2761904908674797,
          -1.2521033567640474,
          -1.1839923558566292,
          -1.0774736228949013,
          -0.922324104099346,
          -0.7326420065334375,
          -0.5061986314560275,
          -0.2580713563630069,
          -2.4499236960566375e-16,
          0.26031287583767065,
          0.5153084290738854,
          0.7519234634447303,
          0.962533535979839,
          1.1368457442900062,
          1.2703102915809705,
          1.3574060957581038
         ],
         "y": [
          0,
          0.2030551933640215,
          0.4326439466295225,
          0.6288948413995337,
          0.8266292848103973,
          1.0009182156533627,
          1.1163817068164226,
          1.1968919795423079,
          1.2240513143180431,
          1.2163224843986304,
          1.167097853273634,
          1.051257127380112,
          0.8967852875584033,
          0.704656543120615,
          0.4869652539515318,
          0.2482741255873186,
          1.5628825997431485e-16,
          -0.24905884289795333,
          -0.4904256915418875,
          -0.7199448577398869,
          -0.9223241040993457,
          -1.0964762489487494,
          -1.2220716013158395,
          -1.297412321630225,
          -1.3336763425788671,
          -1.3086812010075737,
          -1.2440645982753473,
          -1.1253329884747776,
          -0.9625335359798395,
          -0.7596160409440479,
          -0.5261797511949599,
          -0.27000486000282387
         ]
        },
        {
         "hoverinfo": "skip",
         "line": {
          "color": "gray",
          "dash": "dot"
         },
         "mode": "lines",
         "showlegend": false,
         "type": "scatter",
         "x": [
          0.27679985066660734,
          0.27624256301468136,
          0.2745729440595866,
          0.2717977167675735,
          0.2679280559994479,
          0.2629795435133504,
          0.2569721052225158,
          0.24992993096065347,
          0.24188137707802432,
          0.23285885226042682,
          0.22289868703085747,
          0.2120409874593175,
          0.20032947366982415,
          0.1878113037949018,
          0.1745368840864268,
          0.1605596659474414,
          0.14593593070221927,
          0.13072456297123672,
          0.1149868135635889,
          0.09878605284159987,
          0.0821875155507395,
          0.06525803814232778,
          0.04806578964673484,
          0.030679997180755442,
          0.013170667194442917,
          -0.004391696420156655,
          -0.02193637622329414,
          -0.03939272598168773,
          -0.056690455135970215,
          -0.07375991183596305,
          -0.09053236340409372,
          -0.10694027309762966,
          -0.12291757205530444,
          -0.13839992533330372,
          -0.1533249909593769,
          -0.16763267096195697,
          -0.18126535336347976,
          -0.1941681441634849,
          -0.2062890883773802,
          -0.21757937924082812,
          -0.22799355473735933,
          -0.2374896806578677,
          -0.24602951945486973,
          -0.2535786842116129,
          -0.2601067771060523,
          -0.2655875118121519,
          -0.2699988193456413,
          -0.27332293692802667,
          -0.27554647951103034,
          -0.276660493673456,
          -0.276660493673456,
          -0.27554647951103034,
          -0.27332293692802667,
          -0.2699988193456413,
          -0.2655875118121519,
          -0.26010677710605234,
          -0.2535786842116129,
          -0.24602951945486976,
          -0.23748968065786769,
          -0.22799355473735936,
          -0.2175793792408281,
          -0.20628908837738022,
          -0.19416814416348488,
          -0.18126535336347982,
          -0.16763267096195691,
          -0.153324990959377,
          -0.13839992533330356,
          -0.1229175720553044,
          -0.10694027309762966,
          -0.09053236340409379,
          -0.07375991183596294,
          -0.05669045513597016,
          -0.03939272598168773,
          -0.02193637622329421,
          -0.0043916964201565385,
          0.013170667194442973,
          0.03067999718075538,
          0.04806578964673471,
          0.06525803814232783,
          0.0821875155507395,
          0.09878605284159982,
          0.11498681356358902,
          0.13072456297123677,
          0.14593593070221927,
          0.16055966594744134,
          0.1745368840864269,
          0.18781130379490185,
          0.2003294736698241,
          0.21204098745931743,
          0.2228986870308575,
          0.23285885226042682,
          0.2418813770780243,
          0.2499299309606534,
          0.25697210522251585,
          0.2629795435133504,
          0.2679280559994479,
          0.2717977167675735,
          0.2745729440595866,
          0.27624256301468136,
          0.27679985066660734
         ],
         "y": [
          0,
          0.017555731489627958,
          0.03504077224473322,
          0.052384716177431165,
          0.06951772534694174,
          0.08637081117232817,
          0.10287611222516324,
          0.11896716748355034,
          0.13457918394720164,
          0.1496492975359819,
          0.1641168262213719,
          0.17792351437157955,
          0.19101376732640862,
          0.20333487525733315,
          0.21483722541137357,
          0.22547450188414242,
          0.2352038721176443,
          0.2439861593718695,
          0.2517860004756987,
          0.2585719882219123,
          0.2643167978329283,
          0.2689972969880378,
          0.2725946389690963,
          0.27509433854960547,
          0.276486330321608,
          0.2767650092255329,
          0.275929253119792,
          0.2739824272992481,
          0.27093237094436073,
          0.2667913655555724,
          0.2615760855000419,
          0.25530753086985214,
          0.24801094292205164,
          0.23971570244102092,
          0.2304552114324237,
          0.2202667586251189,
          0.20919136932261076,
          0.19727364020863067,
          0.18456155977203256,
          0.17110631507408489,
          0.15696208563624167,
          0.14218582527833123,
          0.12683703278562614,
          0.11097751232823358,
          0.09467112459751678,
          0.07798352966162919,
          0.0609819225755952,
          0.043734762810538744,
          0.026311498591556258,
          0.008782287254225175,
          -0.008782287254225231,
          -0.026311498591556313,
          -0.0437347628105388,
          -0.06098192257559513,
          -0.07798352966162925,
          -0.09467112459751673,
          -0.11097751232823362,
          -0.12683703278562608,
          -0.1421858252783313,
          -0.1569620856362416,
          -0.1711063150740849,
          -0.18456155977203254,
          -0.19727364020863072,
          -0.2091913693226107,
          -0.22026675862511894,
          -0.23045521143242367,
          -0.239715702441021,
          -0.24801094292205167,
          -0.25530753086985214,
          -0.26157608550004185,
          -0.2667913655555725,
          -0.27093237094436073,
          -0.2739824272992481,
          -0.27592925311979194,
          -0.2767650092255329,
          -0.276486330321608,
          -0.27509433854960547,
          -0.27259463896909636,
          -0.2689972969880378,
          -0.2643167978329283,
          -0.25857198822191235,
          -0.2517860004756987,
          -0.24398615937186946,
          -0.2352038721176443,
          -0.22547450188414245,
          -0.2148372254113735,
          -0.2033348752573331,
          -0.19101376732640862,
          -0.17792351437157963,
          -0.16411682622137183,
          -0.14964929753598188,
          -0.13457918394720167,
          -0.11896716748355042,
          -0.10287611222516316,
          -0.08637081117232814,
          -0.06951772534694178,
          -0.05238471617743103,
          -0.035040772244733155,
          -0.01755573148962796,
          -6.779641022466521e-17
         ]
        },
        {
         "hoverinfo": "skip",
         "line": {
          "color": "gray",
          "dash": "dot"
         },
         "mode": "lines",
         "showlegend": false,
         "type": "scatter",
         "x": [
          0.5535997013332147,
          0.5524851260293627,
          0.5491458881191732,
          0.543595433535147,
          0.5358561119988958,
          0.5259590870267008,
          0.5139442104450316,
          0.49985986192130694,
          0.48376275415604864,
          0.46571770452085365,
          0.44579737406171493,
          0.424081974918635,
          0.4006589473396483,
          0.3756226075898036,
          0.3490737681728536,
          0.3211193318948828,
          0.29187186140443855,
          0.26144912594247344,
          0.2299736271271778,
          0.19757210568319974,
          0.164375031101479,
          0.13051607628465556,
          0.09613157929346967,
          0.061359994361510885,
          0.026341334388885834,
          -0.00878339284031331,
          -0.04387275244658828,
          -0.07878545196337546,
          -0.11338091027194043,
          -0.1475198236719261,
          -0.18106472680818744,
          -0.2138805461952593,
          -0.2458351441106089,
          -0.27679985066660745,
          -0.3066499819187538,
          -0.33526534192391394,
          -0.36253070672695953,
          -0.3883362883269698,
          -0.4125781767547604,
          -0.43515875848165625,
          -0.45598710947471865,
          -0.4749793613157354,
          -0.49205903890973945,
          -0.5071573684232258,
          -0.5202135542121046,
          -0.5311750236243038,
          -0.5399976386912826,
          -0.5466458738560533,
          -0.5510929590220607,
          -0.553320987346912,
          -0.553320987346912,
          -0.5510929590220607,
          -0.5466458738560533,
          -0.5399976386912826,
          -0.5311750236243038,
          -0.5202135542121047,
          -0.5071573684232258,
          -0.4920590389097395,
          -0.47497936131573537,
          -0.4559871094747187,
          -0.4351587584816562,
          -0.41257817675476044,
          -0.38833628832696976,
          -0.36253070672695964,
          -0.33526534192391383,
          -0.306649981918754,
          -0.2767998506666071,
          -0.2458351441106088,
          -0.2138805461952593,
          -0.18106472680818758,
          -0.14751982367192587,
          -0.11338091027194032,
          -0.07878545196337546,
          -0.04387275244658842,
          -0.008783392840313077,
          0.026341334388885945,
          0.06135999436151076,
          0.09613157929346942,
          0.13051607628465567,
          0.164375031101479,
          0.19757210568319963,
          0.22997362712717803,
          0.26144912594247355,
          0.29187186140443855,
          0.3211193318948827,
          0.3490737681728538,
          0.3756226075898037,
          0.4006589473396482,
          0.42408197491863486,
          0.445797374061715,
          0.46571770452085365,
          0.4837627541560486,
          0.4998598619213068,
          0.5139442104450317,
          0.5259590870267008,
          0.5358561119988958,
          0.543595433535147,
          0.5491458881191732,
          0.5524851260293627,
          0.5535997013332147
         ],
         "y": [
          0,
          0.035111462979255915,
          0.07008154448946644,
          0.10476943235486233,
          0.13903545069388348,
          0.17274162234465634,
          0.20575222445032648,
          0.23793433496710067,
          0.2691583678944033,
          0.2992985950719638,
          0.3282336524427438,
          0.3558470287431591,
          0.38202753465281725,
          0.4066697505146663,
          0.42967445082274713,
          0.45094900376828484,
          0.4704077442352886,
          0.487972318743739,
          0.5035720009513974,
          0.5171439764438246,
          0.5286335956658565,
          0.5379945939760756,
          0.5451892779381926,
          0.5501886770992109,
          0.552972660643216,
          0.5535300184510658,
          0.551858506239584,
          0.5479648545984962,
          0.5418647418887215,
          0.5335827311111448,
          0.5231521710000838,
          0.5106150617397043,
          0.4960218858441033,
          0.47943140488204183,
          0.4609104228648474,
          0.4405335172502378,
          0.4183827386452215,
          0.39454728041726134,
          0.3691231195440651,
          0.34221263014816977,
          0.31392417127248334,
          0.28437165055666247,
          0.25367406557125227,
          0.22195502465646716,
          0.18934224919503356,
          0.15596705932325838,
          0.1219638451511904,
          0.08746952562107749,
          0.052622997183112516,
          0.01756457450845035,
          -0.017564574508450462,
          -0.05262299718311263,
          -0.0874695256210776,
          -0.12196384515119026,
          -0.1559670593232585,
          -0.18934224919503345,
          -0.22195502465646724,
          -0.25367406557125216,
          -0.2843716505566626,
          -0.3139241712724832,
          -0.3422126301481698,
          -0.36912311954406507,
          -0.39454728041726145,
          -0.4183827386452214,
          -0.44053351725023787,
          -0.46091042286484735,
          -0.479431404882042,
          -0.49602188584410334,
          -0.5106150617397043,
          -0.5231521710000837,
          -0.533582731111145,
          -0.5418647418887215,
          -0.5479648545984962,
          -0.5518585062395839,
          -0.5535300184510658,
          -0.552972660643216,
          -0.5501886770992109,
          -0.5451892779381927,
          -0.5379945939760756,
          -0.5286335956658565,
          -0.5171439764438247,
          -0.5035720009513974,
          -0.4879723187437389,
          -0.4704077442352886,
          -0.4509490037682849,
          -0.429674450822747,
          -0.4066697505146662,
          -0.38202753465281725,
          -0.35584702874315927,
          -0.32823365244274366,
          -0.29929859507196377,
          -0.26915836789440334,
          -0.23793433496710084,
          -0.20575222445032632,
          -0.1727416223446563,
          -0.13903545069388357,
          -0.10476943235486207,
          -0.07008154448946631,
          -0.03511146297925592,
          -1.3559282044933042e-16
         ]
        },
        {
         "hoverinfo": "skip",
         "line": {
          "color": "gray",
          "dash": "dot"
         },
         "mode": "lines",
         "showlegend": false,
         "type": "scatter",
         "x": [
          0.8303995519998221,
          0.8287276890440443,
          0.8237188321787599,
          0.8153931503027205,
          0.8037841679983437,
          0.7889386305400513,
          0.7709163156675475,
          0.7497897928819605,
          0.725644131234073,
          0.6985765567812805,
          0.6686960610925724,
          0.6361229623779525,
          0.6009884210094725,
          0.5634339113847054,
          0.5236106522592805,
          0.48167899784232426,
          0.4378077921066579,
          0.3921736889137102,
          0.34496044069076676,
          0.29635815852479963,
          0.24656254665221852,
          0.19577411442698336,
          0.14419736894020452,
          0.09203999154226634,
          0.03951200158332875,
          -0.013175089260469966,
          -0.06580912866988244,
          -0.11817817794506319,
          -0.17007136540791065,
          -0.22127973550788915,
          -0.2715970902122812,
          -0.320820819292889,
          -0.3687527161659134,
          -0.4151997759999112,
          -0.4599749728781308,
          -0.502898012885871,
          -0.5437960600904393,
          -0.5825044324904548,
          -0.6188672651321406,
          -0.6527381377224845,
          -0.683980664212078,
          -0.7124690419736032,
          -0.7380885583646092,
          -0.7607360526348387,
          -0.7803203313181569,
          -0.7967625354364557,
          -0.8099964580369239,
          -0.81996881078408,
          -0.826639438533091,
          -0.8299814810203681,
          -0.8299814810203681,
          -0.826639438533091,
          -0.81996881078408,
          -0.8099964580369239,
          -0.7967625354364557,
          -0.780320331318157,
          -0.7607360526348387,
          -0.7380885583646093,
          -0.7124690419736031,
          -0.6839806642120781,
          -0.6527381377224843,
          -0.6188672651321407,
          -0.5825044324904547,
          -0.5437960600904395,
          -0.5028980128858708,
          -0.459974972878131,
          -0.4151997759999107,
          -0.3687527161659132,
          -0.320820819292889,
          -0.27159709021228134,
          -0.22127973550788882,
          -0.17007136540791049,
          -0.11817817794506319,
          -0.06580912866988264,
          -0.013175089260469617,
          0.03951200158332892,
          0.09203999154226614,
          0.14419736894020416,
          0.19577411442698353,
          0.24656254665221852,
          0.29635815852479946,
          0.3449604406907671,
          0.39217368891371035,
          0.4378077921066579,
          0.48167899784232404,
          0.5236106522592807,
          0.5634339113847056,
          0.6009884210094724,
          0.6361229623779523,
          0.6686960610925725,
          0.6985765567812805,
          0.7256441312340729,
          0.7497897928819603,
          0.7709163156675476,
          0.7889386305400513,
          0.8037841679983437,
          0.8153931503027206,
          0.8237188321787599,
          0.8287276890440443,
          0.8303995519998221
         ],
         "y": [
          0,
          0.05266719446888388,
          0.10512231673419967,
          0.1571541485322935,
          0.20855317604082524,
          0.2591124335169845,
          0.3086283366754898,
          0.35690150245065105,
          0.4037375518416049,
          0.4489478926079458,
          0.4923504786641157,
          0.5337705431147387,
          0.5730413019792259,
          0.6100046257719994,
          0.6445116762341208,
          0.6764235056524274,
          0.7056116163529329,
          0.7319584781156085,
          0.7553580014270963,
          0.775715964665737,
          0.7929503934987848,
          0.8069918909641135,
          0.8177839169072889,
          0.8252830156488166,
          0.8294589909648241,
          0.8302950276765988,
          0.827787759359376,
          0.8219472818977445,
          0.8127971128330822,
          0.8003740966667173,
          0.7847282565001258,
          0.7659225926095565,
          0.744032828766155,
          0.7191471073230629,
          0.6913656342972712,
          0.6608002758753567,
          0.6275741079678323,
          0.591820920625892,
          0.5536846793160977,
          0.5133189452222547,
          0.470886256908725,
          0.42655747583499376,
          0.3805110983568784,
          0.33293253698470077,
          0.28401337379255037,
          0.2339505889848876,
          0.1829457677267856,
          0.13120428843161624,
          0.07893449577466878,
          0.02634686176267553,
          -0.026346861762675696,
          -0.07893449577466895,
          -0.1312042884316164,
          -0.1829457677267854,
          -0.23395058898488774,
          -0.2840133737925502,
          -0.3329325369847009,
          -0.38051109835687824,
          -0.42655747583499387,
          -0.4708862569087248,
          -0.5133189452222549,
          -0.5536846793160975,
          -0.5918209206258922,
          -0.6275741079678322,
          -0.6608002758753568,
          -0.691365634297271,
          -0.719147107323063,
          -0.7440328287661551,
          -0.7659225926095565,
          -0.7847282565001257,
          -0.8003740966667174,
          -0.8127971128330822,
          -0.8219472818977445,
          -0.8277877593593759,
          -0.8302950276765988,
          -0.8294589909648241,
          -0.8252830156488166,
          -0.817783916907289,
          -0.8069918909641135,
          -0.7929503934987848,
          -0.775715964665737,
          -0.7553580014270962,
          -0.7319584781156084,
          -0.7056116163529329,
          -0.6764235056524275,
          -0.6445116762341205,
          -0.6100046257719993,
          -0.5730413019792259,
          -0.5337705431147389,
          -0.4923504786641155,
          -0.4489478926079457,
          -0.40373755184160504,
          -0.3569015024506513,
          -0.3086283366754895,
          -0.2591124335169845,
          -0.20855317604082538,
          -0.1571541485322931,
          -0.10512231673419947,
          -0.052667194468883884,
          -2.0338923067399564e-16
         ]
        },
        {
         "hoverinfo": "skip",
         "line": {
          "color": "gray",
          "dash": "dot"
         },
         "mode": "lines",
         "showlegend": false,
         "type": "scatter",
         "x": [
          1.1071994026664294,
          1.1049702520587255,
          1.0982917762383464,
          1.087190867070294,
          1.0717122239977916,
          1.0519181740534016,
          1.0278884208900632,
          0.9997197238426139,
          0.9675255083120973,
          0.9314354090417073,
          0.8915947481234299,
          0.84816394983727,
          0.8013178946792966,
          0.7512452151796072,
          0.6981475363457073,
          0.6422386637897656,
          0.5837437228088771,
          0.5228982518849469,
          0.4599472542543556,
          0.3951442113663995,
          0.328750062202958,
          0.2610321525693111,
          0.19226315858693935,
          0.12271998872302177,
          0.05268266877777167,
          -0.01756678568062662,
          -0.08774550489317656,
          -0.1575709039267509,
          -0.22676182054388086,
          -0.2950396473438522,
          -0.3621294536163749,
          -0.4277610923905186,
          -0.4916702882212178,
          -0.5535997013332149,
          -0.6132999638375076,
          -0.6705306838478279,
          -0.7250614134539191,
          -0.7766725766539396,
          -0.8251563535095208,
          -0.8703175169633125,
          -0.9119742189494373,
          -0.9499587226314709,
          -0.9841180778194789,
          -1.0143147368464516,
          -1.0404271084242092,
          -1.0623500472486076,
          -1.0799952773825652,
          -1.0932917477121067,
          -1.1021859180441214,
          -1.106641974693824,
          -1.106641974693824,
          -1.1021859180441214,
          -1.0932917477121067,
          -1.0799952773825652,
          -1.0623500472486076,
          -1.0404271084242094,
          -1.0143147368464516,
          -0.984118077819479,
          -0.9499587226314707,
          -0.9119742189494374,
          -0.8703175169633124,
          -0.8251563535095209,
          -0.7766725766539395,
          -0.7250614134539193,
          -0.6705306838478277,
          -0.613299963837508,
          -0.5535997013332142,
          -0.4916702882212176,
          -0.4277610923905186,
          -0.36212945361637516,
          -0.29503964734385174,
          -0.22676182054388064,
          -0.1575709039267509,
          -0.08774550489317684,
          -0.017566785680626154,
          0.05268266877777189,
          0.12271998872302152,
          0.19226315858693885,
          0.26103215256931134,
          0.328750062202958,
          0.39514421136639927,
          0.45994725425435606,
          0.5228982518849471,
          0.5837437228088771,
          0.6422386637897654,
          0.6981475363457076,
          0.7512452151796074,
          0.8013178946792964,
          0.8481639498372697,
          0.89159474812343,
          0.9314354090417073,
          0.9675255083120972,
          0.9997197238426137,
          1.0278884208900634,
          1.0519181740534016,
          1.0717122239977916,
          1.087190867070294,
          1.0982917762383464,
          1.1049702520587255,
          1.1071994026664294
         ],
         "y": [
          0,
          0.07022292595851183,
          0.14016308897893287,
          0.20953886470972466,
          0.27807090138776697,
          0.3454832446893127,
          0.41150444890065296,
          0.47586866993420135,
          0.5383167357888066,
          0.5985971901439276,
          0.6564673048854875,
          0.7116940574863182,
          0.7640550693056345,
          0.8133395010293326,
          0.8593489016454943,
          0.9018980075365697,
          0.9408154884705772,
          0.975944637487478,
          1.0071440019027948,
          1.0342879528876492,
          1.057267191331713,
          1.0759891879521513,
          1.0903785558763852,
          1.1003773541984219,
          1.105945321286432,
          1.1070600369021315,
          1.103717012479168,
          1.0959297091969924,
          1.083729483777443,
          1.0671654622222897,
          1.0463043420001676,
          1.0212301234794086,
          0.9920437716882066,
          0.9588628097640837,
          0.9218208457296948,
          0.8810670345004756,
          0.836765477290443,
          0.7890945608345227,
          0.7382462390881303,
          0.6844252602963395,
          0.6278483425449667,
          0.5687433011133249,
          0.5073481311425045,
          0.4439100493129343,
          0.3786844983900671,
          0.31193411864651677,
          0.2439276903023808,
          0.17493905124215497,
          0.10524599436622503,
          0.0351291490169007,
          -0.035129149016900924,
          -0.10524599436622525,
          -0.1749390512421552,
          -0.2439276903023805,
          -0.311934118646517,
          -0.3786844983900669,
          -0.4439100493129345,
          -0.5073481311425043,
          -0.5687433011133252,
          -0.6278483425449664,
          -0.6844252602963397,
          -0.7382462390881301,
          -0.7890945608345229,
          -0.8367654772904428,
          -0.8810670345004757,
          -0.9218208457296947,
          -0.958862809764084,
          -0.9920437716882067,
          -1.0212301234794086,
          -1.0463043420001674,
          -1.06716546222229,
          -1.083729483777443,
          -1.0959297091969924,
          -1.1037170124791678,
          -1.1070600369021315,
          -1.105945321286432,
          -1.1003773541984219,
          -1.0903785558763854,
          -1.0759891879521513,
          -1.057267191331713,
          -1.0342879528876494,
          -1.0071440019027948,
          -0.9759446374874778,
          -0.9408154884705772,
          -0.9018980075365698,
          -0.859348901645494,
          -0.8133395010293324,
          -0.7640550693056345,
          -0.7116940574863185,
          -0.6564673048854873,
          -0.5985971901439275,
          -0.5383167357888067,
          -0.4758686699342017,
          -0.41150444890065263,
          -0.3454832446893126,
          -0.27807090138776713,
          -0.20953886470972413,
          -0.14016308897893262,
          -0.07022292595851184,
          -2.7118564089866085e-16
         ]
        },
        {
         "hoverinfo": "skip",
         "line": {
          "color": "gray",
          "dash": "dot"
         },
         "mode": "lines",
         "showlegend": false,
         "type": "scatter",
         "x": [
          1.3839992533330367,
          1.3812128150734069,
          1.372864720297933,
          1.3589885838378675,
          1.3396402799972396,
          1.3148977175667522,
          1.2848605261125792,
          1.2496496548032674,
          1.2094068853901216,
          1.164294261302134,
          1.1144934351542874,
          1.0602049372965876,
          1.0016473683491207,
          0.939056518974509,
          0.872684420432134,
          0.8027983297372071,
          0.7296796535110964,
          0.6536228148561837,
          0.5749340678179445,
          0.4939302642079994,
          0.4109375777536975,
          0.3262901907116389,
          0.2403289482336742,
          0.15339998590377724,
          0.06585333597221459,
          -0.021958482100783275,
          -0.10968188111647072,
          -0.19696362990843863,
          -0.2834522756798511,
          -0.3687995591798152,
          -0.45266181702046865,
          -0.5347013654881483,
          -0.6145878602765222,
          -0.6919996266665187,
          -0.7666249547968846,
          -0.8381633548097849,
          -0.9063267668173989,
          -0.9708407208174246,
          -1.031445441886901,
          -1.0878968962041407,
          -1.1399677736867966,
          -1.1874484032893386,
          -1.2301475972743487,
          -1.2678934210580644,
          -1.3005338855302615,
          -1.3279375590607594,
          -1.3499940967282065,
          -1.3666146846401332,
          -1.3777323975551516,
          -1.38330246836728,
          -1.38330246836728,
          -1.3777323975551516,
          -1.3666146846401332,
          -1.3499940967282065,
          -1.3279375590607594,
          -1.3005338855302617,
          -1.2678934210580644,
          -1.2301475972743487,
          -1.1874484032893384,
          -1.1399677736867968,
          -1.0878968962041407,
          -1.0314454418869012,
          -0.9708407208174245,
          -0.9063267668173992,
          -0.8381633548097845,
          -0.766624954796885,
          -0.6919996266665178,
          -0.614587860276522,
          -0.5347013654881483,
          -0.4526618170204689,
          -0.3687995591798147,
          -0.2834522756798508,
          -0.19696362990843863,
          -0.10968188111647106,
          -0.021958482100782696,
          0.06585333597221486,
          0.1533999859037769,
          0.2403289482336736,
          0.32629019071163917,
          0.4109375777536975,
          0.49393026420799907,
          0.5749340678179451,
          0.6536228148561839,
          0.7296796535110964,
          0.8027983297372068,
          0.8726844204321346,
          0.9390565189745093,
          1.0016473683491205,
          1.0602049372965872,
          1.1144934351542874,
          1.164294261302134,
          1.2094068853901214,
          1.2496496548032672,
          1.2848605261125792,
          1.3148977175667522,
          1.3396402799972396,
          1.3589885838378677,
          1.372864720297933,
          1.3812128150734069,
          1.3839992533330367
         ],
         "y": [
          0,
          0.08777865744813979,
          0.1752038612236661,
          0.26192358088715584,
          0.34758862673470875,
          0.43185405586164083,
          0.5143805611258162,
          0.5948358374177517,
          0.6728959197360082,
          0.7482464876799096,
          0.8205841311068595,
          0.8896175718578978,
          0.9550688366320431,
          1.0166743762866657,
          1.074186127056868,
          1.127372509420712,
          1.1760193605882214,
          1.2199307968593474,
          1.2589300023784937,
          1.2928599411095616,
          1.3215839891646415,
          1.3449864849401891,
          1.3629731948454815,
          1.3754716927480275,
          1.3824316516080402,
          1.3838250461276647,
          1.3796462655989599,
          1.3699121364962408,
          1.3546618547218037,
          1.3339568277778622,
          1.3078804275002096,
          1.2765376543492608,
          1.2400547146102583,
          1.1985785122051047,
          1.1522760571621187,
          1.1013337931255944,
          1.0459568466130538,
          0.9863682010431534,
          0.9228077988601628,
          0.8555315753704245,
          0.7848104281812083,
          0.7109291263916563,
          0.6341851639281307,
          0.5548875616411679,
          0.47335562298758393,
          0.389917648308146,
          0.30490961287797597,
          0.21867381405269373,
          0.1315574929577813,
          0.043911436271125884,
          -0.04391143627112616,
          -0.13155749295778157,
          -0.21867381405269398,
          -0.30490961287797563,
          -0.38991764830814624,
          -0.47335562298758366,
          -0.5548875616411681,
          -0.6341851639281304,
          -0.7109291263916564,
          -0.784810428181208,
          -0.8555315753704247,
          -0.9228077988601626,
          -0.9863682010431536,
          -1.0459568466130535,
          -1.1013337931255947,
          -1.1522760571621184,
          -1.198578512205105,
          -1.2400547146102585,
          -1.2765376543492608,
          -1.3078804275002094,
          -1.3339568277778624,
          -1.3546618547218037,
          -1.3699121364962408,
          -1.3796462655989596,
          -1.3838250461276647,
          -1.3824316516080402,
          -1.3754716927480275,
          -1.3629731948454817,
          -1.3449864849401891,
          -1.3215839891646415,
          -1.2928599411095618,
          -1.2589300023784935,
          -1.2199307968593474,
          -1.1760193605882214,
          -1.1273725094207123,
          -1.0741861270568676,
          -1.0166743762866655,
          -0.9550688366320431,
          -0.8896175718578982,
          -0.8205841311068591,
          -0.7482464876799095,
          -0.6728959197360084,
          -0.5948358374177521,
          -0.5143805611258158,
          -0.4318540558616408,
          -0.34758862673470897,
          -0.26192358088715517,
          -0.1752038612236658,
          -0.08777865744813981,
          -3.3898205112332606e-16
         ]
        }
       ],
       "layout": {
        "dragmode": "pan",
        "height": 1000,
        "hovermode": "closest",
        "margin": {
         "b": 50,
         "l": 50,
         "r": 50,
         "t": 50
        },
        "showlegend": false,
        "template": {
         "data": {
          "bar": [
           {
            "error_x": {
             "color": "#2a3f5f"
            },
            "error_y": {
             "color": "#2a3f5f"
            },
            "marker": {
             "line": {
              "color": "white",
              "width": 0.5
             },
             "pattern": {
              "fillmode": "overlay",
              "size": 10,
              "solidity": 0.2
             }
            },
            "type": "bar"
           }
          ],
          "barpolar": [
           {
            "marker": {
             "line": {
              "color": "white",
              "width": 0.5
             },
             "pattern": {
              "fillmode": "overlay",
              "size": 10,
              "solidity": 0.2
             }
            },
            "type": "barpolar"
           }
          ],
          "carpet": [
           {
            "aaxis": {
             "endlinecolor": "#2a3f5f",
             "gridcolor": "#C8D4E3",
             "linecolor": "#C8D4E3",
             "minorgridcolor": "#C8D4E3",
             "startlinecolor": "#2a3f5f"
            },
            "baxis": {
             "endlinecolor": "#2a3f5f",
             "gridcolor": "#C8D4E3",
             "linecolor": "#C8D4E3",
             "minorgridcolor": "#C8D4E3",
             "startlinecolor": "#2a3f5f"
            },
            "type": "carpet"
           }
          ],
          "choropleth": [
           {
            "colorbar": {
             "outlinewidth": 0,
             "ticks": ""
            },
            "type": "choropleth"
           }
          ],
          "contour": [
           {
            "colorbar": {
             "outlinewidth": 0,
             "ticks": ""
            },
            "colorscale": [
             [
              0,
              "#0d0887"
             ],
             [
              0.1111111111111111,
              "#46039f"
             ],
             [
              0.2222222222222222,
              "#7201a8"
             ],
             [
              0.3333333333333333,
              "#9c179e"
             ],
             [
              0.4444444444444444,
              "#bd3786"
             ],
             [
              0.5555555555555556,
              "#d8576b"
             ],
             [
              0.6666666666666666,
              "#ed7953"
             ],
             [
              0.7777777777777778,
              "#fb9f3a"
             ],
             [
              0.8888888888888888,
              "#fdca26"
             ],
             [
              1,
              "#f0f921"
             ]
            ],
            "type": "contour"
           }
          ],
          "contourcarpet": [
           {
            "colorbar": {
             "outlinewidth": 0,
             "ticks": ""
            },
            "type": "contourcarpet"
           }
          ],
          "heatmap": [
           {
            "colorbar": {
             "outlinewidth": 0,
             "ticks": ""
            },
            "colorscale": [
             [
              0,
              "#0d0887"
             ],
             [
              0.1111111111111111,
              "#46039f"
             ],
             [
              0.2222222222222222,
              "#7201a8"
             ],
             [
              0.3333333333333333,
              "#9c179e"
             ],
             [
              0.4444444444444444,
              "#bd3786"
             ],
             [
              0.5555555555555556,
              "#d8576b"
             ],
             [
              0.6666666666666666,
              "#ed7953"
             ],
             [
              0.7777777777777778,
              "#fb9f3a"
             ],
             [
              0.8888888888888888,
              "#fdca26"
             ],
             [
              1,
              "#f0f921"
             ]
            ],
            "type": "heatmap"
           }
          ],
          "heatmapgl": [
           {
            "colorbar": {
             "outlinewidth": 0,
             "ticks": ""
            },
            "colorscale": [
             [
              0,
              "#0d0887"
             ],
             [
              0.1111111111111111,
              "#46039f"
             ],
             [
              0.2222222222222222,
              "#7201a8"
             ],
             [
              0.3333333333333333,
              "#9c179e"
             ],
             [
              0.4444444444444444,
              "#bd3786"
             ],
             [
              0.5555555555555556,
              "#d8576b"
             ],
             [
              0.6666666666666666,
              "#ed7953"
             ],
             [
              0.7777777777777778,
              "#fb9f3a"
             ],
             [
              0.8888888888888888,
              "#fdca26"
             ],
             [
              1,
              "#f0f921"
             ]
            ],
            "type": "heatmapgl"
           }
          ],
          "histogram": [
           {
            "marker": {
             "pattern": {
              "fillmode": "overlay",
              "size": 10,
              "solidity": 0.2
             }
            },
            "type": "histogram"
           }
          ],
          "histogram2d": [
           {
            "colorbar": {
             "outlinewidth": 0,
             "ticks": ""
            },
            "colorscale": [
             [
              0,
              "#0d0887"
             ],
             [
              0.1111111111111111,
              "#46039f"
             ],
             [
              0.2222222222222222,
              "#7201a8"
             ],
             [
              0.3333333333333333,
              "#9c179e"
             ],
             [
              0.4444444444444444,
              "#bd3786"
             ],
             [
              0.5555555555555556,
              "#d8576b"
             ],
             [
              0.6666666666666666,
              "#ed7953"
             ],
             [
              0.7777777777777778,
              "#fb9f3a"
             ],
             [
              0.8888888888888888,
              "#fdca26"
             ],
             [
              1,
              "#f0f921"
             ]
            ],
            "type": "histogram2d"
           }
          ],
          "histogram2dcontour": [
           {
            "colorbar": {
             "outlinewidth": 0,
             "ticks": ""
            },
            "colorscale": [
             [
              0,
              "#0d0887"
             ],
             [
              0.1111111111111111,
              "#46039f"
             ],
             [
              0.2222222222222222,
              "#7201a8"
             ],
             [
              0.3333333333333333,
              "#9c179e"
             ],
             [
              0.4444444444444444,
              "#bd3786"
             ],
             [
              0.5555555555555556,
              "#d8576b"
             ],
             [
              0.6666666666666666,
              "#ed7953"
             ],
             [
              0.7777777777777778,
              "#fb9f3a"
             ],
             [
              0.8888888888888888,
              "#fdca26"
             ],
             [
              1,
              "#f0f921"
             ]
            ],
            "type": "histogram2dcontour"
           }
          ],
          "mesh3d": [
           {
            "colorbar": {
             "outlinewidth": 0,
             "ticks": ""
            },
            "type": "mesh3d"
           }
          ],
          "parcoords": [
           {
            "line": {
             "colorbar": {
              "outlinewidth": 0,
              "ticks": ""
             }
            },
            "type": "parcoords"
           }
          ],
          "pie": [
           {
            "automargin": true,
            "type": "pie"
           }
          ],
          "scatter": [
           {
            "fillpattern": {
             "fillmode": "overlay",
             "size": 10,
             "solidity": 0.2
            },
            "type": "scatter"
           }
          ],
          "scatter3d": [
           {
            "line": {
             "colorbar": {
              "outlinewidth": 0,
              "ticks": ""
             }
            },
            "marker": {
             "colorbar": {
              "outlinewidth": 0,
              "ticks": ""
             }
            },
            "type": "scatter3d"
           }
          ],
          "scattercarpet": [
           {
            "marker": {
             "colorbar": {
              "outlinewidth": 0,
              "ticks": ""
             }
            },
            "type": "scattercarpet"
           }
          ],
          "scattergeo": [
           {
            "marker": {
             "colorbar": {
              "outlinewidth": 0,
              "ticks": ""
             }
            },
            "type": "scattergeo"
           }
          ],
          "scattergl": [
           {
            "marker": {
             "colorbar": {
              "outlinewidth": 0,
              "ticks": ""
             }
            },
            "type": "scattergl"
           }
          ],
          "scattermapbox": [
           {
            "marker": {
             "colorbar": {
              "outlinewidth": 0,
              "ticks": ""
             }
            },
            "type": "scattermapbox"
           }
          ],
          "scatterpolar": [
           {
            "marker": {
             "colorbar": {
              "outlinewidth": 0,
              "ticks": ""
             }
            },
            "type": "scatterpolar"
           }
          ],
          "scatterpolargl": [
           {
            "marker": {
             "colorbar": {
              "outlinewidth": 0,
              "ticks": ""
             }
            },
            "type": "scatterpolargl"
           }
          ],
          "scatterternary": [
           {
            "marker": {
             "colorbar": {
              "outlinewidth": 0,
              "ticks": ""
             }
            },
            "type": "scatterternary"
           }
          ],
          "surface": [
           {
            "colorbar": {
             "outlinewidth": 0,
             "ticks": ""
            },
            "colorscale": [
             [
              0,
              "#0d0887"
             ],
             [
              0.1111111111111111,
              "#46039f"
             ],
             [
              0.2222222222222222,
              "#7201a8"
             ],
             [
              0.3333333333333333,
              "#9c179e"
             ],
             [
              0.4444444444444444,
              "#bd3786"
             ],
             [
              0.5555555555555556,
              "#d8576b"
             ],
             [
              0.6666666666666666,
              "#ed7953"
             ],
             [
              0.7777777777777778,
              "#fb9f3a"
             ],
             [
              0.8888888888888888,
              "#fdca26"
             ],
             [
              1,
              "#f0f921"
             ]
            ],
            "type": "surface"
           }
          ],
          "table": [
           {
            "cells": {
             "fill": {
              "color": "#EBF0F8"
             },
             "line": {
              "color": "white"
             }
            },
            "header": {
             "fill": {
              "color": "#C8D4E3"
             },
             "line": {
              "color": "white"
             }
            },
            "type": "table"
           }
          ]
         },
         "layout": {
          "annotationdefaults": {
           "arrowcolor": "#2a3f5f",
           "arrowhead": 0,
           "arrowwidth": 1
          },
          "autotypenumbers": "strict",
          "coloraxis": {
           "colorbar": {
            "outlinewidth": 0,
            "ticks": ""
           }
          },
          "colorscale": {
           "diverging": [
            [
             0,
             "#8e0152"
            ],
            [
             0.1,
             "#c51b7d"
            ],
            [
             0.2,
             "#de77ae"
            ],
            [
             0.3,
             "#f1b6da"
            ],
            [
             0.4,
             "#fde0ef"
            ],
            [
             0.5,
             "#f7f7f7"
            ],
            [
             0.6,
             "#e6f5d0"
            ],
            [
             0.7,
             "#b8e186"
            ],
            [
             0.8,
             "#7fbc41"
            ],
            [
             0.9,
             "#4d9221"
            ],
            [
             1,
             "#276419"
            ]
           ],
           "sequential": [
            [
             0,
             "#0d0887"
            ],
            [
             0.1111111111111111,
             "#46039f"
            ],
            [
             0.2222222222222222,
             "#7201a8"
            ],
            [
             0.3333333333333333,
             "#9c179e"
            ],
            [
             0.4444444444444444,
             "#bd3786"
            ],
            [
             0.5555555555555556,
             "#d8576b"
            ],
            [
             0.6666666666666666,
             "#ed7953"
            ],
            [
             0.7777777777777778,
             "#fb9f3a"
            ],
            [
             0.8888888888888888,
             "#fdca26"
            ],
            [
             1,
             "#f0f921"
            ]
           ],
           "sequentialminus": [
            [
             0,
             "#0d0887"
            ],
            [
             0.1111111111111111,
             "#46039f"
            ],
            [
             0.2222222222222222,
             "#7201a8"
            ],
            [
             0.3333333333333333,
             "#9c179e"
            ],
            [
             0.4444444444444444,
             "#bd3786"
            ],
            [
             0.5555555555555556,
             "#d8576b"
            ],
            [
             0.6666666666666666,
             "#ed7953"
            ],
            [
             0.7777777777777778,
             "#fb9f3a"
            ],
            [
             0.8888888888888888,
             "#fdca26"
            ],
            [
             1,
             "#f0f921"
            ]
           ]
          },
          "colorway": [
           "#636efa",
           "#EF553B",
           "#00cc96",
           "#ab63fa",
           "#FFA15A",
           "#19d3f3",
           "#FF6692",
           "#B6E880",
           "#FF97FF",
           "#FECB52"
          ],
          "font": {
           "color": "#2a3f5f"
          },
          "geo": {
           "bgcolor": "white",
           "lakecolor": "white",
           "landcolor": "white",
           "showlakes": true,
           "showland": true,
           "subunitcolor": "#C8D4E3"
          },
          "hoverlabel": {
           "align": "left"
          },
          "hovermode": "closest",
          "mapbox": {
           "style": "light"
          },
          "paper_bgcolor": "white",
          "plot_bgcolor": "white",
          "polar": {
           "angularaxis": {
            "gridcolor": "#EBF0F8",
            "linecolor": "#EBF0F8",
            "ticks": ""
           },
           "bgcolor": "white",
           "radialaxis": {
            "gridcolor": "#EBF0F8",
            "linecolor": "#EBF0F8",
            "ticks": ""
           }
          },
          "scene": {
           "xaxis": {
            "backgroundcolor": "white",
            "gridcolor": "#DFE8F3",
            "gridwidth": 2,
            "linecolor": "#EBF0F8",
            "showbackground": true,
            "ticks": "",
            "zerolinecolor": "#EBF0F8"
           },
           "yaxis": {
            "backgroundcolor": "white",
            "gridcolor": "#DFE8F3",
            "gridwidth": 2,
            "linecolor": "#EBF0F8",
            "showbackground": true,
            "ticks": "",
            "zerolinecolor": "#EBF0F8"
           },
           "zaxis": {
            "backgroundcolor": "white",
            "gridcolor": "#DFE8F3",
            "gridwidth": 2,
            "linecolor": "#EBF0F8",
            "showbackground": true,
            "ticks": "",
            "zerolinecolor": "#EBF0F8"
           }
          },
          "shapedefaults": {
           "line": {
            "color": "#2a3f5f"
           }
          },
          "ternary": {
           "aaxis": {
            "gridcolor": "#DFE8F3",
            "linecolor": "#A2B1C6",
            "ticks": ""
           },
           "baxis": {
            "gridcolor": "#DFE8F3",
            "linecolor": "#A2B1C6",
            "ticks": ""
           },
           "bgcolor": "white",
           "caxis": {
            "gridcolor": "#DFE8F3",
            "linecolor": "#A2B1C6",
            "ticks": ""
           }
          },
          "title": {
           "x": 0.05
          },
          "xaxis": {
           "automargin": true,
           "gridcolor": "#EBF0F8",
           "linecolor": "#EBF0F8",
           "ticks": "",
           "title": {
            "standoff": 15
           },
           "zerolinecolor": "#EBF0F8",
           "zerolinewidth": 2
          },
          "yaxis": {
           "automargin": true,
           "gridcolor": "#EBF0F8",
           "linecolor": "#EBF0F8",
           "ticks": "",
           "title": {
            "standoff": 15
           },
           "zerolinecolor": "#EBF0F8",
           "zerolinewidth": 2
          }
         }
        },
        "title": {
         "text": "Radial Graph of SOCs and Association Scores"
        },
        "width": 1000,
        "xaxis": {
         "scaleanchor": "y",
         "scaleratio": 1,
         "showgrid": false,
         "visible": false,
         "zeroline": false
        },
        "yaxis": {
         "scaleanchor": "x",
         "showgrid": false,
         "visible": false,
         "zeroline": false
        }
       }
      }
     },
     "metadata": {},
     "output_type": "display_data"
    }
   ],
   "source": [
    "# Top n SOCs\n",
    "n = 32\n",
    "analyser.SOC_dist_vis(n=n, sub_regSOC=sub_regSOC, output_folder=output_folder, mode=mode, POS_name=POS_name)"
   ]
  },
  {
   "cell_type": "code",
   "execution_count": 139,
   "metadata": {},
   "outputs": [
    {
     "name": "stdout",
     "output_type": "stream",
     "text": [
      "Context for freedom-freedom_64 extracted and saved to ./output/freedom-freedom_64_context.csv.\n"
     ]
    }
   ],
   "source": [
    "# Get the raw context for the tokens\n",
    "analyser.get_context(token=token, region=region, token_list=token_list, input_folder=input_folder, output_folder=output_folder)"
   ]
  }
 ],
 "metadata": {
  "kernelspec": {
   "display_name": "KUL312",
   "language": "python",
   "name": "python3"
  },
  "language_info": {
   "codemirror_mode": {
    "name": "ipython",
    "version": 3
   },
   "file_extension": ".py",
   "mimetype": "text/x-python",
   "name": "python",
   "nbconvert_exporter": "python",
   "pygments_lexer": "ipython3",
   "version": "3.12.3"
  }
 },
 "nbformat": 4,
 "nbformat_minor": 2
}
